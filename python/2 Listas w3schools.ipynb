{
 "cells": [
  {
   "cell_type": "markdown",
   "metadata": {},
   "source": [
    "# Listas\n",
    "\n",
    "### Colecciones\n",
    "\n",
    "Existen cuatro tipos de datos coleccionables en Python\n",
    "\n",
    "- `Lista` es una colección la cual puede ser cambiada y ordenada. Permite datos duplicados. \n",
    "- `Tupla` es una colección la cual no es modificable y ordenada. Permite miembros duplicados.\n",
    "- `SET` es una colección sin orden y no indexada. No perite datos duplicados.\n",
    "- `Diccionario` es una colección la cual no está ordenada, es indexada y modificable.\n",
    "\n",
    "\n",
    "## Lista\n",
    "\n",
    "Una lista es una colección la cual es modificable y ordenada. Las listas vienen escritas en corchetes.\n",
    "\n",
    "### Ejemplo\n"
   ]
  },
  {
   "cell_type": "code",
   "execution_count": 1,
   "metadata": {},
   "outputs": [
    {
     "name": "stdout",
     "output_type": "stream",
     "text": [
      "['manzana', 'platano', 'cereza']\n"
     ]
    }
   ],
   "source": [
    "lista = [\"manzana\",\"platano\",\"cereza\"]\n",
    "\n",
    "print(lista)"
   ]
  },
  {
   "cell_type": "markdown",
   "metadata": {},
   "source": [
    "## Cambiar valor\n",
    "\n",
    "Para cambiar el valor de un elemento específico, habrá que referirse al número de índice.\n",
    "\n",
    "### Ejemplo\n",
    "\n",
    "Cambiar el segundo elemento:"
   ]
  },
  {
   "cell_type": "code",
   "execution_count": 2,
   "metadata": {},
   "outputs": [
    {
     "name": "stdout",
     "output_type": "stream",
     "text": [
      "['manzana', 'banana', 'cereza']\n"
     ]
    }
   ],
   "source": [
    "lista[1] = \"banana\"\n",
    "\n",
    "print(lista)"
   ]
  },
  {
   "cell_type": "markdown",
   "metadata": {},
   "source": [
    "## Recorrer una lista\n",
    "\n",
    "Se puede recorrer los elementos de una lista utilizando un `For`:\n",
    "\n",
    "### Ejemplo\n",
    "\n",
    "Imprimir los elementos de una lista uno a uno.\n"
   ]
  },
  {
   "cell_type": "code",
   "execution_count": 3,
   "metadata": {},
   "outputs": [
    {
     "name": "stdout",
     "output_type": "stream",
     "text": [
      "manzana\n",
      "banana\n",
      "cereza\n"
     ]
    }
   ],
   "source": [
    "for x in lista:\n",
    "    print(x)"
   ]
  },
  {
   "cell_type": "markdown",
   "metadata": {},
   "source": [
    "## Verificar si un elemento existe\n",
    "\n",
    "Para determinar si un elemento está presente en una lista, se debe utilizar la parlabra `in` \n",
    "\n",
    "### Ejemplo \n",
    "Verificar si `manzana` se encuentra en la lista:\n"
   ]
  },
  {
   "cell_type": "code",
   "execution_count": 4,
   "metadata": {},
   "outputs": [
    {
     "name": "stdout",
     "output_type": "stream",
     "text": [
      "Sí, manzana se encuentra en la lista\n"
     ]
    }
   ],
   "source": [
    "if \"manzana\" in lista:\n",
    "    print(\"Sí, manzana se encuentra en la lista\")"
   ]
  },
  {
   "cell_type": "markdown",
   "metadata": {},
   "source": [
    "## Largo de una lista\n",
    "Para determinar cuantos elementos tiene una lista usamos la función `len()`\n",
    "\n",
    "### Ejemplo\n",
    "\n",
    "Imprimir el numero de lementos de la lista\n"
   ]
  },
  {
   "cell_type": "code",
   "execution_count": 5,
   "metadata": {},
   "outputs": [
    {
     "name": "stdout",
     "output_type": "stream",
     "text": [
      "3\n"
     ]
    }
   ],
   "source": [
    "print(len(lista))"
   ]
  },
  {
   "cell_type": "markdown",
   "metadata": {},
   "source": [
    "## Agregar Elementos\n",
    "\n",
    "Para agregar un elemento al final de la lista, utilizar el metodo `append()`\n",
    "\n",
    "### Ejemplo\n",
    "Insertar `Mandarina` a la lista "
   ]
  },
  {
   "cell_type": "code",
   "execution_count": 6,
   "metadata": {},
   "outputs": [
    {
     "name": "stdout",
     "output_type": "stream",
     "text": [
      "['manzana', 'banana', 'cereza', 'mandarina']\n"
     ]
    }
   ],
   "source": [
    "lista.append(\"mandarina\")\n",
    "\n",
    "print(lista)"
   ]
  },
  {
   "cell_type": "markdown",
   "metadata": {},
   "source": [
    "## Insertar \n",
    "Para insertar un elemento en la posición deseada utilizar `insert(posicion, \"elemento\" )`\n",
    "\n",
    "### Ejemplo\n",
    "\n"
   ]
  },
  {
   "cell_type": "code",
   "execution_count": 7,
   "metadata": {},
   "outputs": [
    {
     "name": "stdout",
     "output_type": "stream",
     "text": [
      "['chabacano', 'manzana', 'banana', 'cereza', 'mandarina']\n"
     ]
    }
   ],
   "source": [
    "lista.insert(0,\"chabacano\")\n",
    "\n",
    "print(lista)"
   ]
  },
  {
   "cell_type": "markdown",
   "metadata": {},
   "source": [
    "## Eliminar un elemento\n",
    "\n",
    "Existen diferentes formas de eliminar un elemento de lista.\n",
    "\n",
    "- Remove\n",
    "- Pop\n",
    "- Del\n",
    "- Clear\n",
    "\n",
    "### Remove\n",
    "\n",
    "Este método elimina el elemento especificado\n"
   ]
  },
  {
   "cell_type": "code",
   "execution_count": 8,
   "metadata": {},
   "outputs": [
    {
     "name": "stdout",
     "output_type": "stream",
     "text": [
      "['chabacano', 'manzana', 'banana', 'cereza', 'mandarina']\n",
      "['chabacano', 'manzana', 'cereza', 'mandarina']\n"
     ]
    }
   ],
   "source": [
    "print(lista)\n",
    "lista.remove(\"banana\")\n",
    "print (lista)"
   ]
  },
  {
   "cell_type": "markdown",
   "metadata": {},
   "source": [
    "### Pop\n",
    "\n",
    "El método `pop()` elimina en el índice especificado (o en el último elemento si no se especifica el índice):"
   ]
  },
  {
   "cell_type": "code",
   "execution_count": 9,
   "metadata": {},
   "outputs": [
    {
     "name": "stdout",
     "output_type": "stream",
     "text": [
      "['chabacano', 'manzana', 'cereza', 'mandarina']\n",
      "['chabacano', 'manzana', 'cereza']\n"
     ]
    }
   ],
   "source": [
    "print(lista)\n",
    "lista.pop()\n",
    "print(lista)\n"
   ]
  },
  {
   "cell_type": "markdown",
   "metadata": {},
   "source": [
    "### Del\n",
    "\n",
    "La palabra `del` elimina el índice especifico:\n"
   ]
  },
  {
   "cell_type": "code",
   "execution_count": 10,
   "metadata": {},
   "outputs": [
    {
     "name": "stdout",
     "output_type": "stream",
     "text": [
      "['chabacano', 'manzana', 'cereza']\n",
      "['manzana', 'cereza']\n"
     ]
    }
   ],
   "source": [
    "print(lista)\n",
    "\n",
    "del lista[0]\n",
    "\n",
    "print(lista)"
   ]
  },
  {
   "cell_type": "markdown",
   "metadata": {},
   "source": [
    "La palabra `del` también puede limpiar la lista por completo\n",
    "\n",
    "\n",
    "~~~ py\n",
    "del lista\n",
    "~~~\n",
    "\n",
    "El método `clear()` limpia la lista:\n",
    "\n",
    "~~~ py\n",
    "lista.clear()\n",
    "print(lista)\n",
    "~~~\n"
   ]
  },
  {
   "cell_type": "markdown",
   "metadata": {},
   "source": [
    "## El constructor lista()\n",
    "\n",
    "También es posible usar el constructor de lista para crear una lista.\n",
    "\n",
    "(Nótese el doble paréntesis)"
   ]
  },
  {
   "cell_type": "code",
   "execution_count": 11,
   "metadata": {},
   "outputs": [
    {
     "name": "stdout",
     "output_type": "stream",
     "text": [
      "['manzana', 'banana', 'cereza']\n"
     ]
    }
   ],
   "source": [
    "lista2 = list( (\"manzana\",\"banana\",\"cereza\") )\n",
    "\n",
    "print(lista2)"
   ]
  },
  {
   "cell_type": "markdown",
   "metadata": {},
   "source": [
    "## Métodos\n",
    "\n",
    "Estos son algunos de los métodos que pueden usarse con listas.\n",
    "\n",
    "- `append()` Añade un elemento al final de la lista\n",
    "- `clear()` Limpia la lista\n",
    "- `copy` Regresa una copia de la lista\n",
    "- `count()` regresa el númer de elementos con un valor específico\n",
    "- `extend()` Añade los elementos de una lista, al final de la lista\n",
    "- `index()` Regresa el indice del primer elmento con el valor específico\n",
    "- `insert()` Añade un elmento en la posición indicada\n",
    "- `pop()` Elimina unn elemento en la posición indicada\n",
    "- `remove()` Elimina un elemento con un valor en específico.\n",
    "- `reverse()` Invierte el orden de la lista\n",
    "- `sort()` ordena la lista\n"
   ]
  },
  {
   "cell_type": "markdown",
   "metadata": {},
   "source": [
    "### Index\n",
    "Para averiguar la posición de un valor dentro de una lista usaremos el método `Index()`\n",
    "\n",
    "Si el valor está repetidon, entonces traerá la primera concidencia que encuentre.\n"
   ]
  },
  {
   "cell_type": "code",
   "execution_count": 14,
   "metadata": {},
   "outputs": [
    {
     "data": {
      "text/plain": [
       "2"
      ]
     },
     "execution_count": 14,
     "metadata": {},
     "output_type": "execute_result"
    }
   ],
   "source": [
    "lista2.index('cereza')"
   ]
  },
  {
   "cell_type": "markdown",
   "metadata": {},
   "source": [
    "### Sort  & Sorted\n",
    "\n",
    "Python provee de dos operaciones para obtener una lista ordenada a partir de una lista desordenada.\n",
    "\n",
    "Para dejar la lista original intacta y obtener una lista ordenada a partir de esta, se utiliza la función `sorted()`"
   ]
  },
  {
   "cell_type": "code",
   "execution_count": 17,
   "metadata": {},
   "outputs": [
    {
     "data": {
      "text/plain": [
       "[1, 2, 3, 4, 5]"
      ]
     },
     "execution_count": 17,
     "metadata": {},
     "output_type": "execute_result"
    }
   ],
   "source": [
    "a= [5,4,3,2,1]\n",
    "\n",
    "b=sorted(a)\n",
    "\n",
    "b"
   ]
  },
  {
   "cell_type": "markdown",
   "metadata": {},
   "source": [
    "Para modificar la lista original, utilizamos el método `sort()`"
   ]
  },
  {
   "cell_type": "code",
   "execution_count": 18,
   "metadata": {},
   "outputs": [
    {
     "data": {
      "text/plain": [
       "[1, 2, 3, 4, 5]"
      ]
     },
     "execution_count": 18,
     "metadata": {},
     "output_type": "execute_result"
    }
   ],
   "source": [
    "a.sort()\n",
    "a"
   ]
  },
  {
   "cell_type": "markdown",
   "metadata": {},
   "source": [
    "## Unir y Separar\n",
    "\n",
    "A partir de una lista de caracteres, podemos obtener una lista de sus componentes usando la función split.\n",
    "\n",
    "Si queremos obtener las palabras (separadas entre sí por espacios) que componen una cadena, escribimos \n",
    "`cadena.split()` "
   ]
  },
  {
   "cell_type": "code",
   "execution_count": 19,
   "metadata": {},
   "outputs": [
    {
     "name": "stdout",
     "output_type": "stream",
     "text": [
      "['Anita', 'lava', 'la', 'tina']\n"
     ]
    }
   ],
   "source": [
    "c=\" Anita lava la tina\"\n",
    "\n",
    "d=c.split()\n",
    "\n",
    "print(d)"
   ]
  },
  {
   "cell_type": "markdown",
   "metadata": {},
   "source": [
    "En este caso `split` elimina ltodos los espacios en blanco y devuelve las palabras que conforman la cadena.\n",
    "\n",
    "La *casi* inversa de la *split* es la función *join* \n",
    "    \n",
    "    \n",
    "    <separador>.join(<lista de componentes>)\n",
    "    \n",
    "y devuelve la cadena que resulta de unir todas las componentes separadasentre sí por medio del separador:\n"
   ]
  },
  {
   "cell_type": "code",
   "execution_count": 22,
   "metadata": {},
   "outputs": [
    {
     "name": "stdout",
     "output_type": "stream",
     "text": [
      "Anita lava la tina\n"
     ]
    }
   ],
   "source": [
    "e=\" \".join(d)\n",
    "\n",
    "print(e)"
   ]
  }
 ],
 "metadata": {
  "kernelspec": {
   "display_name": "Python 3",
   "language": "python",
   "name": "python3"
  },
  "language_info": {
   "codemirror_mode": {
    "name": "ipython",
    "version": 3
   },
   "file_extension": ".py",
   "mimetype": "text/x-python",
   "name": "python",
   "nbconvert_exporter": "python",
   "pygments_lexer": "ipython3",
   "version": "3.7.0"
  }
 },
 "nbformat": 4,
 "nbformat_minor": 2
}
