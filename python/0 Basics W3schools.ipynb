{
 "cells": [
  {
   "cell_type": "markdown",
   "metadata": {},
   "source": [
    "# Cadenas\n",
    "\n",
    "Las cadenas en Python se escriben dentro de comillas simples ( ' ' ), o comillas dobles ( \" \" ).\n",
    "\n",
    "### Strip\n",
    "\n",
    "Este metodo elimina acualquier espacio en blanco al principio y al final.\n"
   ]
  },
  {
   "cell_type": "code",
   "execution_count": 1,
   "metadata": {},
   "outputs": [
    {
     "name": "stdout",
     "output_type": "stream",
     "text": [
      "Hola, a Todos!\n"
     ]
    }
   ],
   "source": [
    "texto = \" Hola, a Todos! \"\n",
    "\n",
    "print( texto.strip() )"
   ]
  },
  {
   "cell_type": "markdown",
   "metadata": {},
   "source": [
    "## Substring\n",
    "Para obtener el caracter en la posición 1 (recordar que el primer caracter tiene la posición 0)\n"
   ]
  },
  {
   "cell_type": "code",
   "execution_count": 2,
   "metadata": {},
   "outputs": [
    {
     "name": "stdout",
     "output_type": "stream",
     "text": [
      "H\n"
     ]
    }
   ],
   "source": [
    "print(texto[1])"
   ]
  },
  {
   "cell_type": "markdown",
   "metadata": {},
   "source": [
    "Subcadena. Obtener los caracteres desde la posición 2 a la 5 (sin tocarlo):"
   ]
  },
  {
   "cell_type": "code",
   "execution_count": 8,
   "metadata": {},
   "outputs": [
    {
     "name": "stdout",
     "output_type": "stream",
     "text": [
      "ola\n"
     ]
    }
   ],
   "source": [
    "print(texto[2:5])"
   ]
  },
  {
   "cell_type": "markdown",
   "metadata": {},
   "source": [
    "### LEN\n",
    "\n",
    "El método Len() devuelve el largo de una cadena"
   ]
  },
  {
   "cell_type": "code",
   "execution_count": 3,
   "metadata": {},
   "outputs": [
    {
     "name": "stdout",
     "output_type": "stream",
     "text": [
      "16\n"
     ]
    }
   ],
   "source": [
    "print(len(texto))"
   ]
  },
  {
   "cell_type": "markdown",
   "metadata": {},
   "source": [
    "### Lower\n",
    "\n",
    "Este método regresa la cadena en minúsculas."
   ]
  },
  {
   "cell_type": "code",
   "execution_count": 10,
   "metadata": {},
   "outputs": [
    {
     "name": "stdout",
     "output_type": "stream",
     "text": [
      " hola, a todos! \n"
     ]
    }
   ],
   "source": [
    "print(texto.lower())"
   ]
  },
  {
   "cell_type": "markdown",
   "metadata": {},
   "source": [
    "### Upper\n",
    "\n",
    "Este método regresa una cadena de texto en mayúsculas\n"
   ]
  },
  {
   "cell_type": "code",
   "execution_count": 4,
   "metadata": {},
   "outputs": [
    {
     "name": "stdout",
     "output_type": "stream",
     "text": [
      " HOLA, A TODOS! \n"
     ]
    }
   ],
   "source": [
    "print(texto.upper())"
   ]
  },
  {
   "cell_type": "markdown",
   "metadata": {},
   "source": [
    "### Replace\n",
    "\n",
    "Este metodo reemplaza una cadena por otra\n"
   ]
  },
  {
   "cell_type": "code",
   "execution_count": 5,
   "metadata": {},
   "outputs": [
    {
     "name": "stdout",
     "output_type": "stream",
     "text": [
      " Bola, a Todos! \n"
     ]
    }
   ],
   "source": [
    "print(texto.replace(\"H\",\"B\"))"
   ]
  },
  {
   "cell_type": "markdown",
   "metadata": {},
   "source": [
    "### Split\n",
    "\n",
    "Este método separa la cadena en subcadenas si escuentra instancias del separador"
   ]
  },
  {
   "cell_type": "code",
   "execution_count": 6,
   "metadata": {},
   "outputs": [
    {
     "name": "stdout",
     "output_type": "stream",
     "text": [
      "[' Hola', ' a Todos! ']\n"
     ]
    }
   ],
   "source": [
    "print(texto.split(\",\"))"
   ]
  },
  {
   "cell_type": "markdown",
   "metadata": {},
   "source": [
    "## Cadena de entrada\n",
    "\n",
    "Python permite la entrada de datos. ESto es que somos capaces de preguntar al usuario por alguno.\n",
    "\n",
    "El siguiente ejemplo pregunta al usuario su nombre, entonces al utilizar el metodo `input()` el programa imprimirá el nombre en la pantalla."
   ]
  },
  {
   "cell_type": "code",
   "execution_count": 7,
   "metadata": {},
   "outputs": [
    {
     "name": "stdout",
     "output_type": "stream",
     "text": [
      "Ingresa tu nombre\n",
      "Saltiel\n",
      "Hola Saltiel\n"
     ]
    }
   ],
   "source": [
    "print(\"Ingresa tu nombre\")\n",
    "\n",
    "x = input()\n",
    "\n",
    "print(\"Hola \"+x)"
   ]
  },
  {
   "cell_type": "markdown",
   "metadata": {},
   "source": [
    "# Operadores\n",
    "\n",
    "Los operadores son utilizados para realizar operaciones entre variables y valores.\n",
    "\n",
    "Python divide los operadores en los siguientes grupos:\n",
    "\n",
    "- Operadores Aritméticos\n",
    "- Operadores de Asignación \n",
    "- Operadores de comparación\n",
    "- Operadores lógicos\n",
    "- Operadores de Identidad\n",
    "- Operadores de miembros\n",
    "- Operadores de Bit\n",
    "\n",
    "### Operadores Aritméticos\n",
    "\n",
    "`+`  Suma\n",
    "`-`  Resta\n",
    "`*`  Multiplicación \n",
    "`/`  División\n",
    "`%`  Modulo\n",
    "`//` Divisón entera\n",
    "\n",
    "### Operadores de Comparación\n",
    "Estos operadores se utilizan para comparar dos valores.\n",
    "\n",
    "`==` Igual\n",
    "`!=` Distinto\n",
    "`>` Mayor que\n",
    "`<` Menor que\n",
    "`>=` Mayor igual a \n",
    "`<=` Menos igual a\n",
    "\n",
    "### Operadores lógicos\n",
    "Los operadores lógicos son utilizados para combinar sentnecias condicionales.\n",
    "\n",
    "-  `and` Regresa True si ambas sentencias son verdaederas.\n",
    "- `or`  Regresa True si ambas sentencias son verdaedras.\n",
    "- `not` Invierte el resultado. Regresa False si el resultado es verdadero.\n",
    "\n",
    "### Operadores de Miembros\n",
    "\n",
    "Estos operadores son utilizados para probar si una secuencia está presente en un objeto.\n",
    "\n",
    "`in` Regresa *True* si una secuencia se encuentra en el objeto \n",
    "\n",
    "~~~ py\n",
    "x = [\"apple\", \"banana\"]\n",
    "\n",
    "print(\"banana\" in x)\n",
    "~~~\n",
    "\n",
    "`not in` Regresa *True* si una secuencia con el valor específico no se ncuentra en el objeto\n",
    "\n",
    "~~~ py\n",
    "x = [\"apple\", \"banana\"]\n",
    "\n",
    "print(\"pineapple\" not in x)\n",
    "~~~\n",
    "\n"
   ]
  },
  {
   "cell_type": "code",
   "execution_count": null,
   "metadata": {},
   "outputs": [],
   "source": []
  }
 ],
 "metadata": {
  "kernelspec": {
   "display_name": "Python 3",
   "language": "python",
   "name": "python3"
  },
  "language_info": {
   "codemirror_mode": {
    "name": "ipython",
    "version": 3
   },
   "file_extension": ".py",
   "mimetype": "text/x-python",
   "name": "python",
   "nbconvert_exporter": "python",
   "pygments_lexer": "ipython3",
   "version": "3.7.0"
  }
 },
 "nbformat": 4,
 "nbformat_minor": 2
}
