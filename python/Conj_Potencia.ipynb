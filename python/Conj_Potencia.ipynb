{
 "cells": [
  {
   "cell_type": "markdown",
   "metadata": {},
   "source": [
    "# Combinaciones \n",
    "\n",
    "Este código en servirá para generar las combinaciones posibles de un conjunto de datos\n",
    "P.e. \n",
    "\n",
    "Si tenemos un conjunto dado de la siguiente forma"
   ]
  },
  {
   "cell_type": "code",
   "execution_count": 2,
   "metadata": {},
   "outputs": [
    {
     "name": "stdout",
     "output_type": "stream",
     "text": [
      "['cereza', 'chocolate', 'fresa', 'nuez', 'vainilla']\n"
     ]
    }
   ],
   "source": [
    "conjunto = ['cereza','chocolate','fresa','nuez','vainilla']\n",
    "print(conjunto)"
   ]
  },
  {
   "cell_type": "markdown",
   "metadata": {},
   "source": [
    "### Función\n",
    "\n",
    "Definiremos la función que generará el conjunto potencia de `conjunto`"
   ]
  },
  {
   "cell_type": "code",
   "execution_count": 4,
   "metadata": {},
   "outputs": [],
   "source": [
    "def potencia(c):\n",
    "    # Si el conjunto está vacío entonces el conjunto potencia será vacío\n",
    "    if len(c) == 0:\n",
    "        return [[]]\n",
    "    # Si es lo contrario\n",
    "    r = potencia(c[:-1])\n",
    "    return r + [s + [c[-1]] for s in r]"
   ]
  },
  {
   "cell_type": "code",
   "execution_count": 7,
   "metadata": {},
   "outputs": [
    {
     "name": "stdout",
     "output_type": "stream",
     "text": [
      "[[], ['cereza'], ['chocolate'], ['cereza', 'chocolate'], ['fresa'], ['cereza', 'fresa'], ['chocolate', 'fresa'], ['cereza', 'chocolate', 'fresa'], ['nuez'], ['cereza', 'nuez'], ['chocolate', 'nuez'], ['cereza', 'chocolate', 'nuez'], ['fresa', 'nuez'], ['cereza', 'fresa', 'nuez'], ['chocolate', 'fresa', 'nuez'], ['cereza', 'chocolate', 'fresa', 'nuez'], ['vainilla'], ['cereza', 'vainilla'], ['chocolate', 'vainilla'], ['cereza', 'chocolate', 'vainilla'], ['fresa', 'vainilla'], ['cereza', 'fresa', 'vainilla'], ['chocolate', 'fresa', 'vainilla'], ['cereza', 'chocolate', 'fresa', 'vainilla'], ['nuez', 'vainilla'], ['cereza', 'nuez', 'vainilla'], ['chocolate', 'nuez', 'vainilla'], ['cereza', 'chocolate', 'nuez', 'vainilla'], ['fresa', 'nuez', 'vainilla'], ['cereza', 'fresa', 'nuez', 'vainilla'], ['chocolate', 'fresa', 'nuez', 'vainilla'], ['cereza', 'chocolate', 'fresa', 'nuez', 'vainilla']]\n"
     ]
    }
   ],
   "source": [
    "print(potencia(conjunto))"
   ]
  },
  {
   "cell_type": "markdown",
   "metadata": {},
   "source": [
    "Esto es todos los posibles conjuntos que se pueden generar de cierta cantidad de elementos."
   ]
  },
  {
   "cell_type": "markdown",
   "metadata": {},
   "source": [
    "#### Nota: \n",
    "La expresión `c[:-1]` obtiene una rebanada 'slice' de la lista 'c' comenzando implicitamente en el índice o (el índice del primer elemento de la lista) y hasta un elemento antes del índice -1 (el índice del último elemento de la lista). Esto efectivamente devuelve una copia de la lista 'c' pero sin su último elemento.\n",
    "\n",
    "Veamos como esta expresión imprime la lista sin su último elemento: `vainilla`"
   ]
  },
  {
   "cell_type": "code",
   "execution_count": 8,
   "metadata": {},
   "outputs": [
    {
     "name": "stdout",
     "output_type": "stream",
     "text": [
      "['cereza', 'chocolate', 'fresa', 'nuez']\n"
     ]
    }
   ],
   "source": [
    "print(conjunto[:-1])"
   ]
  }
 ],
 "metadata": {
  "kernelspec": {
   "display_name": "Python 3",
   "language": "python",
   "name": "python3"
  },
  "language_info": {
   "codemirror_mode": {
    "name": "ipython",
    "version": 3
   },
   "file_extension": ".py",
   "mimetype": "text/x-python",
   "name": "python",
   "nbconvert_exporter": "python",
   "pygments_lexer": "ipython3",
   "version": "3.7.0"
  }
 },
 "nbformat": 4,
 "nbformat_minor": 2
}
