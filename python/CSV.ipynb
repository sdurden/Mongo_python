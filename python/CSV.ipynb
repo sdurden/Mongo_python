{
 "cells": [
  {
   "cell_type": "code",
   "execution_count": 2,
   "metadata": {},
   "outputs": [
    {
     "name": "stdout",
     "output_type": "stream",
     "text": [
      "['nombre', 'provincia', 'consumo']\n",
      "Alejandro Sevilla 330\n"
     ]
    }
   ],
   "source": [
    "import csv, operator\n",
    "\n",
    "\n",
    "csvarchivo = open('datos.csv')  # Abrir archivo csv\n",
    "entrada = csv.reader(csvarchivo)  # Leer todos los registros\n",
    "reg = next(entrada)  # Leer registro (lista)\n",
    "print(reg)  # Mostrar registro\n",
    "nombre, provincia, consumo = next(entrada)  # Leer campos\n",
    "print(nombre, provincia, consumo)  # Mostrar campos\n",
    "del nombre, provincia, consumo, entrada  # Borrar objetos\n",
    "csvarchivo.close()  # Cerrar archivo\n",
    "del csvarchivo  # Borrar objeto"
   ]
  }
 ],
 "metadata": {
  "kernelspec": {
   "display_name": "Python 3",
   "language": "python",
   "name": "python3"
  },
  "language_info": {
   "codemirror_mode": {
    "name": "ipython",
    "version": 3
   },
   "file_extension": ".py",
   "mimetype": "text/x-python",
   "name": "python",
   "nbconvert_exporter": "python",
   "pygments_lexer": "ipython3",
   "version": "3.7.0"
  }
 },
 "nbformat": 4,
 "nbformat_minor": 2
}
