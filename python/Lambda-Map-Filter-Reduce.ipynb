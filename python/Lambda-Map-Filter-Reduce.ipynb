{
 "cells": [
  {
   "cell_type": "markdown",
   "metadata": {},
   "source": [
    "## Lambda, Map, Filter y Reduce\n",
    "\n",
    "Cuando tenemos que realizar operaciones sobre listas, en lugar de utilizar los clásicos *loops*, podemos utilizar las funciones **Map, Reduce y Filter**\n",
    "\n",
    "### Operador Lambda\n",
    "\n",
    "EL operador Lambda o función Lambda es una forma de crear funciones anónimas. Estas funciones son desechables, es decir que nacen y mueren en el lugar que se crearon y no se pueden reutilizar.\n",
    "\n",
    "Las funciones lambda se utilizan principalmente en combinación con las funciones Map, Filter, Reduce.\n",
    "\n",
    "La sintaxis para la función Lambda es:\n",
    "\n",
    "~~~py\n",
    "lambda parametros : expresion\n",
    "~~~\n",
    "\n",
    "#### Ejemplo"
   ]
  },
  {
   "cell_type": "code",
   "execution_count": 1,
   "metadata": {},
   "outputs": [
    {
     "data": {
      "text/plain": [
       "8"
      ]
     },
     "execution_count": 1,
     "metadata": {},
     "output_type": "execute_result"
    }
   ],
   "source": [
    "x = lambda a,b : a + b\n",
    "\n",
    "x(5,3)"
   ]
  },
  {
   "cell_type": "code",
   "execution_count": 2,
   "metadata": {},
   "outputs": [
    {
     "data": {
      "text/plain": [
       "4.0"
      ]
     },
     "execution_count": 2,
     "metadata": {},
     "output_type": "execute_result"
    }
   ],
   "source": [
    "# Función que devuleve las raíz cuadrada de su argumento\n",
    "\n",
    "y = lambda z : z**(1/2)\n",
    "\n",
    "y(16)"
   ]
  },
  {
   "cell_type": "markdown",
   "metadata": {},
   "source": [
    "### Operador Map\n",
    "\n",
    "El operador Map, toma una función y un objeto iterable como argumentos; así devuleve un nuevo iterable con la función aplicada a cada argumento.\n",
    "\n",
    "**Ejemplo**"
   ]
  },
  {
   "cell_type": "code",
   "execution_count": 7,
   "metadata": {},
   "outputs": [
    {
     "name": "stdout",
     "output_type": "stream",
     "text": [
      "[2, 4, 6, 8, 10]\n"
     ]
    }
   ],
   "source": [
    "# Multiplica los elementos de una lista por 2\n",
    "numeros= [1,2,3,4,5]\n",
    "\n",
    "g = list(map(lambda x : x*2, numeros))\n",
    "\n",
    "print(g)"
   ]
  },
  {
   "cell_type": "markdown",
   "metadata": {},
   "source": [
    "En este ejemplo vimos como el operador `map` recibió la función creada en linea `lambda` y el arreglo `numeros` \n",
    "~~~py\n",
    "map( lambda , numeros)\n",
    "~~~\n",
    "\n",
    "y al fnal retornó una lista nueva con la función aplicada a cada elemento de numeros.\n",
    "\n",
    "\n",
    "### Operador Filter\n",
    "\n",
    "El operador *filter* ofrece una forma elegante de filtrar todos los elementos de una lista, en donde una función se encarga de filtrar dichos elementos.\n",
    "\n",
    "El operador *filter* necesita una función f como primer argumento, f devuelve un valor *booleano*, así esta función se aplicará a cada elemento de la lista. sólo si la función devuelve *True* será incluida en el resultado final de la operación.\n"
   ]
  },
  {
   "cell_type": "code",
   "execution_count": 10,
   "metadata": {},
   "outputs": [
    {
     "name": "stdout",
     "output_type": "stream",
     "text": [
      "[6, 8, 10]\n"
     ]
    }
   ],
   "source": [
    "# Usando la lista anterior g = [2, 4, 6, 8, 10]\n",
    "# filtremos aquellos números mayores a 5\n",
    "\n",
    "mayores = list(filter(lambda w : w > 5 , g))\n",
    "\n",
    "print(mayores)"
   ]
  },
  {
   "cell_type": "markdown",
   "metadata": {},
   "source": [
    "### Operador Reduce\n",
    "\n",
    "El operador reduce recorre un iterable (n-1) veces, tomando dos elementos del iterable y apicandoles una función y al resultado le aplica la misma función con el siguiente elemento de la lista. Muy parecido a la función factorial\n"
   ]
  },
  {
   "cell_type": "code",
   "execution_count": 28,
   "metadata": {},
   "outputs": [
    {
     "name": "stdout",
     "output_type": "stream",
     "text": [
      "120\n"
     ]
    }
   ],
   "source": [
    "from functools import reduce\n",
    "c = [ i for i in range(1,6) ]\n",
    "# c = [1,2,3,4,5]\n",
    "\n",
    "\n",
    "factorial = reduce(lambda k,h : k*h ,c)\n",
    "# factorial = 1*2*3*4*5\n",
    "\n",
    "print(factorial)"
   ]
  },
  {
   "cell_type": "markdown",
   "metadata": {},
   "source": [
    "### Apply \n",
    "\n",
    "Apply es una función propia de `Pandas` que funciona muy similar al `Map` nativo de python, solo que se le puede indicar si la función se le aplica por fila o por columnas en un Dataframe.\n",
    "\n",
    "~~~py\n",
    "df.apply(func , axis = 0, broadcast= None, raw=False,  reduce = None , result_type=None, args(), **kwds)\n",
    "~~~\n",
    "\n",
    "Los argumentos importantes son: \n",
    "\n",
    "**func** : La función que se aplicará a cada columna o fila \n",
    "\n",
    "**axis** : 0 para columnas,  1 para filas. Por default es cero\n",
    "\n",
    "**args** : lista de argumentos pasados a la función."
   ]
  }
 ],
 "metadata": {
  "kernelspec": {
   "display_name": "Python 3",
   "language": "python",
   "name": "python3"
  },
  "language_info": {
   "codemirror_mode": {
    "name": "ipython",
    "version": 3
   },
   "file_extension": ".py",
   "mimetype": "text/x-python",
   "name": "python",
   "nbconvert_exporter": "python",
   "pygments_lexer": "ipython3",
   "version": "3.7.3"
  }
 },
 "nbformat": 4,
 "nbformat_minor": 2
}
