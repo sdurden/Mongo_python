{
 "cells": [
  {
   "cell_type": "markdown",
   "metadata": {},
   "source": [
    "# Variables\n",
    "\n",
    "Una variable es un espacio en la memoria RAM para lamacenar un dato.\n",
    "Podemos almacenar distintos tipo de datos:\n",
    " - Cadenas\n",
    " - Números Enteros\n",
    " - Números Reales\n",
    " - Booleanos\n",
    " \n",
    " Para almacenar estos tipos de datos necesitamos declarar las variales que contendrán la información.\n",
    " \n",
    " ~~~ py\n",
    " curso = \"Python\"\n",
    " print (curso)\n",
    " ~~~\n",
    " \n",
    " Una característica de Python es el tipado dinamico, esto es que puedes reasignar otro tipo de dato a una misma variable.\n",
    " \n",
    "#### Ejemplo\n",
    "\n",
    "~~~py\n",
    "curso = \"Python\"\n",
    "curso = 3\n",
    "curso = False\n",
    "\n",
    "print (curso)\n",
    "~~~"
   ]
  },
  {
   "cell_type": "code",
   "execution_count": null,
   "metadata": {},
   "outputs": [],
   "source": []
  }
 ],
 "metadata": {
  "kernelspec": {
   "display_name": "Python 3",
   "language": "python",
   "name": "python3"
  },
  "language_info": {
   "codemirror_mode": {
    "name": "ipython",
    "version": 3
   },
   "file_extension": ".py",
   "mimetype": "text/x-python",
   "name": "python",
   "nbconvert_exporter": "python",
   "pygments_lexer": "ipython3",
   "version": "3.7.0"
  }
 },
 "nbformat": 4,
 "nbformat_minor": 2
}
