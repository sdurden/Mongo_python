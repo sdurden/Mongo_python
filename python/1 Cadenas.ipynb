{
 "cells": [
  {
   "cell_type": "markdown",
   "metadata": {},
   "source": [
    "## Operaciones con cadenas\n",
    "\n",
    "Las distintas pociciones de una cadena se llaman índices. Los índices son números que van entre `- len(var)` y `len(var) -1`\n",
    "\n",
    "que es lo mismo [0 , largo(cadena) -1] \n",
    "\n",
    "Los índices negativos proveen de una notación que hace mas fácil indicar cuál es el último carácter de la cadena:\n",
    "\n",
    "`cadena[-1]` es el último caracter de `cadena`\n",
    "\n",
    "`cadena[-2]` es el penúltimo caracter de `cadena`. Así.\n",
    "\n",
    "`cadena[ -len(cadena)]` es el primer caracter de `cadena`\n",
    "\n",
    "### Ejemplo"
   ]
  },
  {
   "cell_type": "code",
   "execution_count": 5,
   "metadata": {
    "scrolled": true
   },
   "outputs": [
    {
     "name": "stdout",
     "output_type": "stream",
     "text": [
      "Murciélago\n",
      "M\n",
      "M\n",
      "o\n"
     ]
    }
   ],
   "source": [
    "cadena = \"Murciélago\"\n",
    "\n",
    "print(cadena)\n",
    "\n",
    "print(cadena[0])\n",
    "\n",
    "print( cadena[- len(cadena)] )\n",
    "\n",
    "print(cadena[-1])"
   ]
  },
  {
   "cell_type": "markdown",
   "metadata": {},
   "source": [
    "## Segmentos de cadenas\n",
    "Existe también una notación para identificar segmentos de una cadena. y esta es por medio de rangos, denotados de la siguiente manera:\n",
    "\n",
    "[a : b] = [a : b)\n",
    "\n",
    "Esto nos indica que el índice va de la posicíon \"a\" al \"b-1\"\n",
    "\n",
    "### Ejemplo\n"
   ]
  },
  {
   "cell_type": "code",
   "execution_count": 6,
   "metadata": {},
   "outputs": [
    {
     "name": "stdout",
     "output_type": "stream",
     "text": [
      "Mu\n"
     ]
    }
   ],
   "source": [
    "print(cadena[0:2])"
   ]
  },
  {
   "cell_type": "code",
   "execution_count": 7,
   "metadata": {},
   "outputs": [
    {
     "name": "stdout",
     "output_type": "stream",
     "text": [
      "la\n"
     ]
    }
   ],
   "source": [
    "print(cadena[-4:-2])"
   ]
  },
  {
   "cell_type": "code",
   "execution_count": 11,
   "metadata": {},
   "outputs": [
    {
     "name": "stdout",
     "output_type": "stream",
     "text": [
      "Murciélago\n"
     ]
    }
   ],
   "source": [
    "print(cadena[0:10])"
   ]
  },
  {
   "cell_type": "markdown",
   "metadata": {},
   "source": [
    "Si `j` es un entero no negativo, se puede usar la notación a[ : j ] para representar al segmento a[ 0 : j ].\n",
    "\n",
    "También se puede usar la notación \n",
    "~~~ py \n",
    "a[j:] \n",
    "~~~ \n",
    "para representar al segmento \n",
    "~~~ py \n",
    "a[j:len(a)]\n",
    "~~~\n",
    "\n",
    "### Ejemplo\n"
   ]
  },
  {
   "cell_type": "code",
   "execution_count": 18,
   "metadata": {},
   "outputs": [
    {
     "name": "stdout",
     "output_type": "stream",
     "text": [
      "Murc\n"
     ]
    }
   ],
   "source": [
    "print(cadena[:4])"
   ]
  },
  {
   "cell_type": "code",
   "execution_count": 15,
   "metadata": {},
   "outputs": [
    {
     "name": "stdout",
     "output_type": "stream",
     "text": [
      "iélago\n"
     ]
    }
   ],
   "source": [
    "print(cadena[4:])"
   ]
  },
  {
   "cell_type": "code",
   "execution_count": 20,
   "metadata": {},
   "outputs": [
    {
     "name": "stdout",
     "output_type": "stream",
     "text": [
      "\n"
     ]
    }
   ],
   "source": [
    "print(cadena[0:0])"
   ]
  },
  {
   "cell_type": "code",
   "execution_count": 21,
   "metadata": {},
   "outputs": [
    {
     "name": "stdout",
     "output_type": "stream",
     "text": [
      "Murciélago\n"
     ]
    }
   ],
   "source": [
    "print(cadena[:])"
   ]
  },
  {
   "cell_type": "code",
   "execution_count": 22,
   "metadata": {
    "collapsed": true
   },
   "outputs": [
    {
     "name": "stdout",
     "output_type": "stream",
     "text": [
      "Murciélago\n"
     ]
    }
   ],
   "source": [
    "print(cadena[0:])"
   ]
  },
  {
   "cell_type": "code",
   "execution_count": 29,
   "metadata": {},
   "outputs": [
    {
     "name": "stdout",
     "output_type": "stream",
     "text": [
      "go\n"
     ]
    }
   ],
   "source": [
    "print( cadena[-2:])"
   ]
  },
  {
   "cell_type": "code",
   "execution_count": 30,
   "metadata": {},
   "outputs": [
    {
     "name": "stdout",
     "output_type": "stream",
     "text": [
      "Murciéla\n"
     ]
    }
   ],
   "source": [
    "print(cadena[:-2])"
   ]
  },
  {
   "cell_type": "markdown",
   "metadata": {},
   "source": [
    "## Las cadenas son inmutables\n",
    "\n",
    "Si requerimos cambiar algún caracter dentro de la cadena, este no lo podremos hacer por medio del índice.\n",
    "\n",
    "`a[1] =\"b\"`  \n",
    "\n",
    "Para lograr la corrección se tendrá que asignar la cadena completa.\n",
    "\n",
    "`a=\"Ábaco\"`"
   ]
  }
 ],
 "metadata": {
  "kernelspec": {
   "display_name": "Python 3",
   "language": "python",
   "name": "python3"
  },
  "language_info": {
   "codemirror_mode": {
    "name": "ipython",
    "version": 3
   },
   "file_extension": ".py",
   "mimetype": "text/x-python",
   "name": "python",
   "nbconvert_exporter": "python",
   "pygments_lexer": "ipython3",
   "version": "3.7.0"
  }
 },
 "nbformat": 4,
 "nbformat_minor": 2
}
