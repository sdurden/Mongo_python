{
 "cells": [
  {
   "cell_type": "markdown",
   "metadata": {},
   "source": [
    "## Tuplas\n",
    "\n",
    "Una tupla es una lista con datos de distinta naturaleza.\n",
    "Por ejemplo:\n",
    "\n",
    "`( 89766, \"Alicia\", True)`\n",
    "\n",
    "- Es posible anidar Tuplas. Por ejemplo:\n",
    "`( 89766, \"Alicia\", True,(29,\"Mayo\",2018))`\n",
    "\n",
    "\n",
    "- Al igual que las cadenas, las tuplas puede saberse su longitud de elmentos por medio de el método `len()` o poder acceder al elemento por medio del índice ó del rango.\n",
    "\n",
    "\n"
   ]
  },
  {
   "cell_type": "code",
   "execution_count": 17,
   "metadata": {},
   "outputs": [
    {
     "name": "stdout",
     "output_type": "stream",
     "text": [
      "(89766, 'Alicia', True, (29, 'Mayo', 2018)) \n",
      "\n",
      "(29, 'Mayo', 2018) \n",
      "\n",
      "(True, (29, 'Mayo', 2018))\n"
     ]
    }
   ],
   "source": [
    "tupla= ( 89766, \"Alicia\", True,(29,\"Mayo\",2018))\n",
    "\n",
    "print(tupla,'\\n')\n",
    "\n",
    "print(tupla[3],'\\n')\n",
    "\n",
    "print(tupla[2:])"
   ]
  },
  {
   "cell_type": "markdown",
   "metadata": {},
   "source": [
    "Una tupla unitaria es una tupla con un componente. Para poder diferenciar una tupla de un dato almacenado, Python requiere que se ponga una coma `,` a continuación del valor de la componente.\n",
    "\n",
    "`(1810)`  -> Dato\n",
    "\n",
    "`(1810,)` -> Tupla unitaria\n",
    "\n"
   ]
  },
  {
   "cell_type": "markdown",
   "metadata": {},
   "source": [
    "## Empaquetado y Desempaquetado de tuplas\n",
    "\n",
    "Si a una variable se le asigna una secuencia de valores separados por comas, el valor de esa variable será la tupla formada por todos los valores asignados. A esta operación se le denomina  *empaquetado de tuplas* "
   ]
  },
  {
   "cell_type": "code",
   "execution_count": 9,
   "metadata": {},
   "outputs": [
    {
     "name": "stdout",
     "output_type": "stream",
     "text": [
      "largo : 3 \n",
      "\n",
      "(125, '\\\\#', 'Ana')\n"
     ]
    }
   ],
   "source": [
    "a=125\n",
    "b=\"\\#\"\n",
    "c=\"Ana\"\n",
    "d=a,b,c\n",
    "print(\"largo : {} \\n\".format(len(d)))\n",
    "print(d)"
   ]
  },
  {
   "cell_type": "markdown",
   "metadata": {},
   "source": [
    "Si se tiene una tupla de longitud `k` se puede asignar la tupla a `k` variables distintas y en cada variable quedará una de las componentes de la tupla."
   ]
  },
  {
   "cell_type": "code",
   "execution_count": 10,
   "metadata": {},
   "outputs": [
    {
     "name": "stdout",
     "output_type": "stream",
     "text": [
      "125 \n",
      " \\# \n",
      " Ana\n"
     ]
    }
   ],
   "source": [
    "x,y,z=d\n",
    "print(x,\"\\n\",y,\"\\n\",z)"
   ]
  },
  {
   "cell_type": "code",
   "execution_count": 2,
   "metadata": {},
   "outputs": [
    {
     "name": "stdout",
     "output_type": "stream",
     "text": [
      "2018-11-10 00:00:00\n"
     ]
    }
   ],
   "source": [
    "from datetime import datetime, date, time, timedelta\n",
    "import calendar\n",
    "\n",
    "def diaSiguiente(x):\n",
    "    Meses=(\"Ene\",\"Feb\",\"Mar\",\"Abr\",\"May\",\"Jun\",\"Jul\",\"Ago\",\"Sep\",\"Oct\",\"Nov\",\"Dic\")\n",
    "    formato= '%d/%m/%Y'\n",
    "    contador=None\n",
    "    largo=len(Meses)\n",
    "    for i in range(largo):\n",
    "        if x[1] == Meses[i]:\n",
    "            contador=i\n",
    "    if contador == None:\n",
    "        retun(x)\n",
    "        \n",
    "    diaSig=datetime.strptime(str(x[0])+'/'+str(contador+1)+'/'+str(x[2]),formato)\n",
    "    return(diaSig + timedelta(days=1) )\n",
    "\n",
    "\n",
    "fecha = (9,\"Nov\",2018)\n",
    "diaS=diaSiguiente(fecha)\n",
    "print(diaS)\n",
    "    \n",
    "    "
   ]
  }
 ],
 "metadata": {
  "kernelspec": {
   "display_name": "Python 3",
   "language": "python",
   "name": "python3"
  },
  "language_info": {
   "codemirror_mode": {
    "name": "ipython",
    "version": 3
   },
   "file_extension": ".py",
   "mimetype": "text/x-python",
   "name": "python",
   "nbconvert_exporter": "python",
   "pygments_lexer": "ipython3",
   "version": "3.7.0"
  }
 },
 "nbformat": 4,
 "nbformat_minor": 2
}
