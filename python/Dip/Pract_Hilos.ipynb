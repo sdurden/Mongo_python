{
 "cells": [
  {
   "cell_type": "markdown",
   "metadata": {},
   "source": [
    "1. Leer el archivo TodasLasNoticias.csv y realizar el worcount con ayuda de la librería threading.\n",
    "2. Se harán tres ejecuciones, utilizando un hilo, dos y cuatro.\n",
    "3. Guardar los resultados en un solo archivo json con esta estructura:\n",
    "~~~\n",
    "{\n",
    "\"palabra\":2,\n",
    "\"palabra2\":3,\n",
    "\"palabra3\":20,\n",
    "\"palabra4\":26,\n",
    "}\n",
    "~~~\n",
    "4.Guardar en mongoDb la siguiente estructura para cada ejecución\n",
    "~~~\n",
    "estructura=[\n",
    "{\"palabra\":4},\n",
    "{\"palabra2\":4},\n",
    "{\"palabr3\":4},\n",
    "{\"palabr5\":4},\n",
    "]~~~\n",
    "\n",
    "5. Comparar el tiempo de procesamiento para 4 hilos, 2 hilos y un hilo\n",
    "ejemplo: \n",
    "~~~\n",
    "# hilos tiempo\n",
    "1 60m\n",
    "2 30m\n",
    "4 4m\n",
    "~~~\n",
    "Nota: Especificar a que velocidad corre la maquina en donde se esta procesando\n",
    "\n",
    "6. Subir el código a su rama de gitLab y generar un reporte en pdf. de lo realizado anteriormente\n",
    "\n",
    "~~~py\n",
    "import threading\n",
    "import time\n",
    "import csv\n",
    "import json\n",
    "\n",
    "def readFileCsv():\n",
    "    csvFile = open(\"/home/pedro/Documentos/DiplomadoM2/modulo2_dip_bigdata/modulo2/data/TodasLasNoticias.csv\", \"r\",\n",
    "                   encoding=\"UTF8\")\n",
    "    csvReader = csv.DictReader(csvFile, fieldnames=[\"Fecha\", \"Titulo\", \"url\", \"Descripcion\", \"Categoria\"])\n",
    "    news = list(csvReader)\n",
    "    return news\n",
    "\n",
    "def wordCount(listNews):\n",
    "    palabras={\n",
    "        \"a\":3,\n",
    "        \"b\":2,\n",
    "        \"c\":4\n",
    "    }\n",
    "    for new in listNews:\n",
    "        print(dict(new)['Descripcion'])\n",
    "        for word in dict(new)['Descripcion'].split(\" \"):\n",
    "           print(word)\n",
    "\n",
    "    return palabras\n",
    "\n",
    "#inicio: primer indice de la lista\n",
    "#fin: segundo indice de la lista\n",
    "#fileName: nombre del archivo de salida\n",
    "def createJsonFile(inicio, fin, fileName):\n",
    "    news = readFileCsv()\n",
    "    print(len(news[inicio:fin:]))\n",
    "    palabras = wordCount(news)\n",
    "\n",
    "    with open(fileName,\"w\") as outfile:\n",
    "        json.dump(palabras, outfile)\n",
    "\n",
    "\n",
    "z = threading.Thread(target=createJsonFile(1,100,\"noticias.json\"))\n",
    "z.start()\n",
    "\n",
    "~~~"
   ]
  },
  {
   "cell_type": "markdown",
   "metadata": {},
   "source": [
    "### Inicio\n",
    "\n",
    "Limpiamos el campo **\"Descripción\"**, le quitamos caracteres alfanuméricos y convertimos la cadena en minúsculas."
   ]
  },
  {
   "cell_type": "code",
   "execution_count": 2,
   "metadata": {
    "scrolled": true
   },
   "outputs": [],
   "source": [
    "import threading\n",
    "import time\n",
    "import csv\n",
    "import json\n",
    "\n",
    "def readFileCsv():\n",
    "    csvFile = open('./Datos/Noticias.csv', \"r\",encoding=\"UTF8\")\n",
    "    csvReader = csv.DictReader(csvFile, fieldnames=[\"Fecha\", \"Titulo\", \"url\", \"Descripcion\", \"Categoria\"])\n",
    "    news = list(csvReader)\n",
    "    return news\n",
    "\n",
    "arch = readFileCsv()\n",
    "\n",
    "signos=[]\n",
    "\n",
    "for row in arch:\n",
    "    if row['Descripcion'] is not None :\n",
    "        row['Descripcion']=row['Descripcion'].casefold()\n",
    "        for letra in row['Descripcion']:\n",
    "            if not letra.isalnum() and letra not in signos:\n",
    "                signos.append(letra) \n",
    "\n",
    "signos.remove(' ')\n",
    "\n",
    "for row in arch:\n",
    "    for x in signos:\n",
    "        if row['Descripcion'] is not None :\n",
    "            if x in row['Descripcion']:\n",
    "                row['Descripcion']=row['Descripcion'].replace(x,'')"
   ]
  },
  {
   "cell_type": "markdown",
   "metadata": {
    "scrolled": true
   },
   "source": [
    "### Segundo\n",
    "\n",
    "Ya que tenemos el archivo limpio debemos de segmentar el archivo de a cuerdo a la cantidad de Hilos en es te caso, 4 ,2 o un hilo.\n",
    "\n",
    "Eso lo conseguimos dividiendo el total de filas entre el número de hilos, para obtener los rangos de inicio y fin.\n"
   ]
  },
  {
   "cell_type": "code",
   "execution_count": 53,
   "metadata": {},
   "outputs": [
    {
     "data": {
      "text/plain": [
       "244436"
      ]
     },
     "execution_count": 53,
     "metadata": {},
     "output_type": "execute_result"
    }
   ],
   "source": [
    "len(arch)"
   ]
  },
  {
   "cell_type": "code",
   "execution_count": 3,
   "metadata": {},
   "outputs": [
    {
     "data": {
      "text/plain": [
       "[[0, 61109], [61109, 122218], [122218, 183327], [183327, 244436]]"
      ]
     },
     "execution_count": 3,
     "metadata": {},
     "output_type": "execute_result"
    }
   ],
   "source": [
    "intervalo=[]\n",
    "for x in range(0 , len(arch)+1 ,int(len(arch)/4) ):\n",
    "    intervalo.append(x)\n",
    "\n",
    "    \n",
    "interval =[]\n",
    "\n",
    "for y in range(len(intervalo)-1):\n",
    "    interval.append(list((intervalo[y],intervalo[y+1])))\n",
    "    \n",
    "interval"
   ]
  },
  {
   "cell_type": "code",
   "execution_count": 4,
   "metadata": {},
   "outputs": [
    {
     "data": {
      "text/plain": [
       "'\\ndef createJsonFile(inicio, fin,archivo, fileName):\\n    news = archivo\\n    palabras = wordCount(news)\\n\\n    with open(fileName,\"w\") as outfile:\\n        json.dump(palabras, outfile)\\n\\nfor z in range(len(interval)):\\n    z= threading.Thread(target=createJsonFile(interval[z][0],interval[z][1],arch,\"noticias{%s}.json\".format(z)))\\nz.start()\\n'"
      ]
     },
     "execution_count": 4,
     "metadata": {},
     "output_type": "execute_result"
    }
   ],
   "source": [
    "\"\"\"\n",
    "def createJsonFile(inicio, fin,archivo, fileName):\n",
    "    news = archivo\n",
    "    palabras = wordCount(news)\n",
    "\n",
    "    with open(fileName,\"w\") as outfile:\n",
    "        json.dump(palabras, outfile)\n",
    "\n",
    "for z in range(len(interval)):\n",
    "    z= threading.Thread(target=createJsonFile(interval[z][0],interval[z][1],arch,\"noticias{%s}.json\".format(z)))\n",
    "z.start()\n",
    "\"\"\"    "
   ]
  },
  {
   "cell_type": "code",
   "execution_count": 5,
   "metadata": {},
   "outputs": [
    {
     "data": {
      "text/plain": [
       "'def wordCount(archi):\\n    words = {}\\n    for new in archi:\\n        for palabra in dict(new)[\\'Descripcion\\'].split(\" \"):\\n            if palabra not in words.keys():\\n                words[palabra]=0\\n            else:\\n                words[palabra]=words.get(palabra) +1\\n    return word\\n\\npalabras = wordCount(arch)'"
      ]
     },
     "execution_count": 5,
     "metadata": {},
     "output_type": "execute_result"
    }
   ],
   "source": [
    "\"\"\"def wordCount(archi):\n",
    "    words = {}\n",
    "    for new in archi:\n",
    "        for palabra in dict(new)['Descripcion'].split(\" \"):\n",
    "            if palabra not in words.keys():\n",
    "                words[palabra]=0\n",
    "            else:\n",
    "                words[palabra]=words.get(palabra) +1\n",
    "    return word\n",
    "\n",
    "palabras = wordCount(arch)\"\"\""
   ]
  }
 ],
 "metadata": {
  "kernelspec": {
   "display_name": "Python 3",
   "language": "python",
   "name": "python3"
  },
  "language_info": {
   "codemirror_mode": {
    "name": "ipython",
    "version": 3
   },
   "file_extension": ".py",
   "mimetype": "text/x-python",
   "name": "python",
   "nbconvert_exporter": "python",
   "pygments_lexer": "ipython3",
   "version": "3.7.3"
  }
 },
 "nbformat": 4,
 "nbformat_minor": 2
}
