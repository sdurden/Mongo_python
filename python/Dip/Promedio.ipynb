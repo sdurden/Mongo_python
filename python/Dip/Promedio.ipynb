{
 "cells": [
  {
   "cell_type": "markdown",
   "metadata": {},
   "source": [
    "Creamos el diccionarios con las los `Nombres` y `Ventas`"
   ]
  },
  {
   "cell_type": "code",
   "execution_count": 1,
   "metadata": {},
   "outputs": [],
   "source": [
    "datos={'Nombre': ['Saltiel','Saltiel','Roberto'],\n",
    "       'Venta': [56,39,41]\n",
    "      }\n",
    "\n",
    "# Funcion que suma las Ventas segun la posicion que se mande en un array \n",
    "def suma(i):\n",
    "    val=0\n",
    "    for x in i:\n",
    "        val+=datos['Venta'][x]\n",
    "    return val\n",
    "\n",
    "\n",
    "    "
   ]
  },
  {
   "cell_type": "markdown",
   "metadata": {},
   "source": [
    "Creamos una lista con los distintos nombres del diccionario `datos`\n",
    "Para esto usamos un `set` que automáticamente nos crea un objeto conjunto solo con los datos únicos en una lista. Después ese set lo convertimos a lista y la almacenamos.\n"
   ]
  },
  {
   "cell_type": "code",
   "execution_count": 2,
   "metadata": {},
   "outputs": [
    {
     "data": {
      "text/plain": [
       "['Roberto', 'Saltiel']"
      ]
     },
     "execution_count": 2,
     "metadata": {},
     "output_type": "execute_result"
    }
   ],
   "source": [
    "Nombres=list(set(datos['Nombre']))\n",
    "\n",
    "Nombres"
   ]
  },
  {
   "cell_type": "markdown",
   "metadata": {},
   "source": [
    "Ahora queremos saber las posiciones de cada unos de los nombres dentro del diccionario para así poder saber cuál es el dato de venta(posición) a la que tenemos que acceder.\n",
    "\n",
    "\n",
    "Podemos crear un diccionario en donde cada una de los nombres sea la clave y su contenido las posiciones dentro del diccionario."
   ]
  },
  {
   "cell_type": "code",
   "execution_count": 3,
   "metadata": {},
   "outputs": [],
   "source": [
    "posiciones={}\n",
    "\n",
    "for x in Nombres:\n",
    "    posiciones[x]=[]\n",
    "\n",
    "\n"
   ]
  },
  {
   "cell_type": "code",
   "execution_count": 4,
   "metadata": {},
   "outputs": [],
   "source": [
    "for x,y in enumerate(datos.get('Nombre')):\n",
    "    posiciones[y].append(x)"
   ]
  },
  {
   "cell_type": "code",
   "execution_count": 5,
   "metadata": {},
   "outputs": [
    {
     "data": {
      "text/plain": [
       "{'Roberto': [2], 'Saltiel': [0, 1]}"
      ]
     },
     "execution_count": 5,
     "metadata": {},
     "output_type": "execute_result"
    }
   ],
   "source": [
    "posiciones"
   ]
  },
  {
   "cell_type": "markdown",
   "metadata": {},
   "source": [
    "**Ya que tenemos las posiciones en donde se encuentran, ahora tenemos que acceder a las Ventas por medio del indice que obtuvimos.**\n",
    "##### Y las sumamos para encontrar el total \n"
   ]
  },
  {
   "cell_type": "code",
   "execution_count": 6,
   "metadata": {},
   "outputs": [
    {
     "name": "stdout",
     "output_type": "stream",
     "text": [
      "('Roberto', [2])\n",
      "('Saltiel', [0, 1])\n"
     ]
    }
   ],
   "source": [
    "for x in posiciones.items():\n",
    "    print(x)"
   ]
  },
  {
   "cell_type": "code",
   "execution_count": 7,
   "metadata": {
    "scrolled": true
   },
   "outputs": [
    {
     "name": "stdout",
     "output_type": "stream",
     "text": [
      "Roberto\n",
      "41\n",
      "Saltiel\n",
      "95\n"
     ]
    }
   ],
   "source": [
    "for x in posiciones.items():\n",
    "    print(x[0])\n",
    "    print(suma(x[1]))"
   ]
  },
  {
   "cell_type": "markdown",
   "metadata": {},
   "source": [
    "### Promedio\n",
    "\n",
    "Contamos las veces que se repiten los nombres y la suma del total de ventas las dividimos por el numero de incidencias en los nombres.\n",
    "\n",
    "Para eso podemos guardar en otro diccionario llamado `Promedio` el Nombre, Total y Veces.\n"
   ]
  },
  {
   "cell_type": "code",
   "execution_count": 8,
   "metadata": {},
   "outputs": [],
   "source": [
    "Promedio ={'Nombre': [],\n",
    "          'Total': [],\n",
    "          'Veces': []}\n",
    "\n",
    "for x in posiciones.items():\n",
    "    Promedio['Nombre'].append(x[0])\n",
    "    Promedio['Total'].append(suma(x[1]))\n",
    "    Promedio['Veces'].append(datos['Nombre'].count(x[0]))\n",
    "\n"
   ]
  },
  {
   "cell_type": "code",
   "execution_count": 9,
   "metadata": {
    "scrolled": true
   },
   "outputs": [
    {
     "name": "stdout",
     "output_type": "stream",
     "text": [
      "El promedio de Roberto es : 41.0 \n",
      "El promedio de Saltiel es : 47.5 \n"
     ]
    }
   ],
   "source": [
    "for x in range(len(Promedio.get('Nombre'))):\n",
    "    print(\"El promedio de {} es : {} \".format(Promedio['Nombre'][x],Promedio['Total'][x]/Promedio['Veces'][x]))\n",
    "    \n"
   ]
  },
  {
   "cell_type": "code",
   "execution_count": 10,
   "metadata": {},
   "outputs": [
    {
     "data": {
      "text/plain": [
       "True"
      ]
     },
     "execution_count": 10,
     "metadata": {},
     "output_type": "execute_result"
    }
   ],
   "source": []
  }
 ],
 "metadata": {
  "kernelspec": {
   "display_name": "Python 3",
   "language": "python",
   "name": "python3"
  },
  "language_info": {
   "codemirror_mode": {
    "name": "ipython",
    "version": 3
   },
   "file_extension": ".py",
   "mimetype": "text/x-python",
   "name": "python",
   "nbconvert_exporter": "python",
   "pygments_lexer": "ipython3",
   "version": "3.7.3"
  }
 },
 "nbformat": 4,
 "nbformat_minor": 2
}
