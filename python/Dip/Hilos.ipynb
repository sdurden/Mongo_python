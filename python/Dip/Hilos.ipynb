{
 "cells": [
  {
   "cell_type": "markdown",
   "metadata": {},
   "source": [
    "## Hilos\n",
    "\n",
    "Los hilos permiten a nuestras aplicaciones ejecutar multiples operaciones de forma concurrente en el mismo espacio de proceso. El módulo  utilizado para ello es el módule **threading**\n",
    "\n",
    "### El  objeto Thread\n",
    "\n",
    "El modo más sencillo para usar un hilo es instanciar un objeto de la clase **Thread** con una función objetivo y hacer una llamada a su método **start( )**\n",
    "\n",
    "~~~py\n",
    "import threading\n",
    "def worker():\n",
    "    \"\"\"funcion que realiza el trabajo en el thread\"\"\"\n",
    "    print 'Estoy trabajando...'\n",
    "    return\n",
    "threads = list()\n",
    "for i in range(3):\n",
    "    t = threading.Thread(target=worker)\n",
    "    threads.append(t)\n",
    "    t.start()\n",
    "~~~\n",
    "\n",
    "Un Thread es una ejecucuión en un flujo separado. Esto significa que en nuestro programa estarán pasando dos cosas a la vez. Pero la mayoría de las implementaciones no se ejecutan al mismo tiempo aun que solo lo aparentan.\n",
    "\n",
    "Suena tentador pensar en threading como tener dos o más diferentes procesadores corriendo en nuestro programa, cada uno realizado tareas independientes a la vez. Eso es casi cierto.\n",
    "\n",
    "Los Threads deberían correr en diferentes procesadores, pero solo estarán corriendo uno a la vez.\n",
    "\n",
    "Tener multiples tareas corriendo simultaneamente requiere una implmentación especial en Python, escribiendo algo de código en un distinto lenguaje o utilizando *multiprocesamiento* lo cual conlleva una sobrecarga adicional.\n",
    "\n",
    "Si se está corriendo una implementación standar de Python, escrita solo en Python, y teniendo un problema ligado de CPU, debería revisar en su lugar el módulo de *multiprocessing*\n",
    "\n",
    "*Thread* en este módulo, encapsula hilos, la cual provee una interface limpia para trabajar con ellos.\n",
    "\n",
    "Para iniciar un hilo separado, se crea una instancia *Thread* y después se le indica su comienzo `.start( )`\n",
    "\n",
    "### Saber en qué Thred nos encontramos\n",
    "\n",
    "Se pueden usar argumentos para nombrar los threads que creamos aunque no es necesario. Cada instancia de la clase Thread tiene un nombre asigndo **por defecto**.\n",
    "\n",
    "Nombrar los threads puede ser útil por ejemplo, a la hora de clarificar nuestro código."
   ]
  },
  {
   "cell_type": "code",
   "execution_count": 4,
   "metadata": {},
   "outputs": [
    {
     "name": "stdout",
     "output_type": "stream",
     "text": [
      "Worker Lanzado\n",
      "Thread-8 Lanzado\n",
      "Servicio Lanzado\n",
      "Servicio Deteniendo\n",
      "Worker Deteniendo\n",
      "Thread-8 Deteniendo\n"
     ]
    }
   ],
   "source": [
    "import threading\n",
    "import time\n",
    "\n",
    "def worker():\n",
    "    print(threading.currentThread().getName(), 'Lanzado')\n",
    "    time.sleep(5)\n",
    "    print(threading.currentThread().getName(), 'Deteniendo')\n",
    "\n",
    "def servicio():\n",
    "    print(threading.currentThread().getName(), 'Lanzado')\n",
    "    print(threading.currentThread().getName(), 'Deteniendo')\n",
    "    \n",
    "t = threading.Thread(target=servicio, name='Servicio')\n",
    "w = threading.Thread(target=worker, name='Worker')\n",
    "z = threading.Thread(target=worker)\n",
    "\n",
    "w.start()\n",
    "z.start()\n",
    "t.start()"
   ]
  },
  {
   "cell_type": "markdown",
   "metadata": {},
   "source": [
    "## Daemon Threads\n",
    "\n",
    "En los ejemplos anteriores, **la aplicación espera** antes de acabar a que todos sus threads se hayan completado. Algunas veces querremos lanzar un thread como un **daemon** que se ejecuta sin bloquear el hilo principal de la aplicación **permitiéndole salir** en cualquier momento.\n",
    "\n",
    "Este comportamiento es útil para servicios en los que puede que detener un hilo no sea una tarea trivial o en la que permitir que un hilo muera en mitad de un proceso **no constituya** una corrupción de datos. Por ejemplo, un proceso puede iniciar un hilo que haga algún tipo de ping heartbeat para monitorizar un servicio.\n",
    "\n",
    "Para levantar un thread como daemon solo tenemos que invocar a su método **setDaemon()** pasándole el argumento True."
   ]
  },
  {
   "cell_type": "code",
   "execution_count": 5,
   "metadata": {},
   "outputs": [
    {
     "name": "stderr",
     "output_type": "stream",
     "text": [
      "[DEBUG] - Daemon     : Lanzado\n",
      "[DEBUG] - Daemon     : Deteniendo\n"
     ]
    }
   ],
   "source": [
    "import threading\n",
    "import logging\n",
    "import time\n",
    "logging.basicConfig( level=logging.DEBUG,\n",
    "    format='[%(levelname)s] - %(threadName)-10s : %(message)s')\n",
    "def daemon():\n",
    "    logging.debug('Lanzado')\n",
    "    time.sleep(2)\n",
    "    logging.debug('Deteniendo')\n",
    "d = threading.Thread(target=daemon, name='Daemon')\n",
    "d.setDaemon(True)\n",
    "d.start()"
   ]
  },
  {
   "cell_type": "markdown",
   "metadata": {},
   "source": [
    "Si ejecutáramos el ejemplo anterior, no recibiríamos el mensaje de salida del thread puesto que la aplicación saldría sin esperarlo. Cuando el proceso termina todos los hilos son eliminados. Para esperar a que un thread daemon termine, debemos invocar explícitamente al método join().\n",
    "\n",
    "Para saber si un thread esta vivo, podemos utilizar el método isAlive() en él, que devolverá True o False según su estado."
   ]
  }
 ],
 "metadata": {
  "kernelspec": {
   "display_name": "Python 3",
   "language": "python",
   "name": "python3"
  },
  "language_info": {
   "codemirror_mode": {
    "name": "ipython",
    "version": 3
   },
   "file_extension": ".py",
   "mimetype": "text/x-python",
   "name": "python",
   "nbconvert_exporter": "python",
   "pygments_lexer": "ipython3",
   "version": "3.7.3"
  }
 },
 "nbformat": 4,
 "nbformat_minor": 2
}
