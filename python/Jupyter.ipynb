{
 "cells": [
  {
   "cell_type": "markdown",
   "metadata": {},
   "source": [
    "# Jupyter\n",
    "\n",
    "## Instalación\n",
    "\n",
    " `python -m pip install jupyter`\n",
    " \n",
    " ### Scipy\n",
    " \n",
    " `python -m pip install scipy`\n",
    " \n",
    " ### Pandas\n",
    " \n",
    " `python -m pip iinstall Pandas`\n",
    " \n",
    " Pandas es una librería de python destinada al análisis de datos, que proporciona unas estructuras de datos flexibles y que permiten trabajar con ellos de forma muy eficiente.\n",
    " \n",
    " ### Matplotlib\n",
    " \n",
    " `python -m pip install matplotlib`\n",
    " \n",
    " Es una colección de funciones que hacen a matplotlib trabajar como MATLAB, Cada función pyplot hace algún cambio a una figura. p.e crea una figura, crea un área de graficación en una figura, dibuja lineas en un área del gráfico, decora las gráficas con etiquetas, etc.\n",
    " \n",
    " \n",
    " ### Scikit \n",
    " \n",
    " `python -m pip install scikit learn`\n",
    " \n",
    " Librería Machine Learning.\n",
    " \n",
    "- Simple y eficientes herramientas en Python para la minería y análisis de datos\n",
    "- Accesible para todos y reutilizable en varios contextos.\n",
    "\n",
    "\n",
    "#### Clasificación\n",
    "\n",
    "Identifica a qué categoría pertenece un objeto\n",
    "\n",
    "Detección de Spam, reconocimiento de imágenes\n",
    "\n",
    "- SVM, nearest neighbors, random forest\n",
    "\n",
    "#### Regresion\n",
    "Predice el valor de un atributo asociado a un objeto\n",
    "\n",
    "\n",
    "\n",
    "\n",
    "#### Clustering\n",
    "\n",
    "Agrupación automática de objetos similares en conjuntos.\n",
    "\n",
    "Segmentación de clientes; Agrupar los resultados de un experimento.\n",
    "\n",
    "- k-means, spectral clustering, mean-shift\n",
    "\n",
    "#### Reducción dimensional\n",
    "\n",
    "Reduce el numero de variables aleatorias a considerar\n",
    "\n",
    "Aplicaciones: Visualizacion, Eficiencia incrementada\n",
    "\n",
    "- PCA, feature selection, non negative matrix factorization\n",
    "\n",
    "\n",
    "#### Selcción de modelos\n",
    "\n",
    "Compara, valida y elige parámetros y modelos \n",
    "\n",
    "\n",
    "#### Preprocesamiento\n",
    "\n",
    "Extracción y normalizaión\n",
    "\n",
    "App: transforma los datos de entrada como texto para su uso en algoritmos de machine learning.\n",
    "\n",
    "- Preprocessing, feature extraction\n"
   ]
  },
  {
   "cell_type": "code",
   "execution_count": 6,
   "metadata": {},
   "outputs": [],
   "source": [
    "import matplotlib.pyplot as plt\n",
    "import numpy as np\n",
    "\n"
   ]
  },
  {
   "cell_type": "code",
   "execution_count": 4,
   "metadata": {},
   "outputs": [
    {
     "data": {
      "image/png": "[encoded data removed]",
      "text/plain": [
       "<Figure size 432x288 with 1 Axes>"
      ]
     },
     "metadata": {
      "needs_background": "light"
     },
     "output_type": "display_data"
    }
   ],
   "source": [
    "plt.plot([1, 2, 3, 4])\n",
    "plt.ylabel('Números')\n",
    "plt.show()"
   ]
  },
  {
   "cell_type": "markdown",
   "metadata": {},
   "source": [
    "## Introducción a Pandas\n",
    "\n",
    "### Series \n",
    "\n",
    "Son arreglos unidimensionales con indexación, similares a los diccionarios. Pueden generarse a través de diccionarios o de listas.\n",
    "\n",
    "### DataFrame\n",
    "\n",
    "Son estructuras de datos similares a las tablas de BD relacionales.\n",
    "\n",
    "### Panel, Panel4D y PanelND\n",
    "\n",
    "Estas estructuras de datos permiten trabajar con más de dos dimensiones\n"
   ]
  }
 ],
 "metadata": {
  "kernelspec": {
   "display_name": "Python 3",
   "language": "python",
   "name": "python3"
  },
  "language_info": {
   "codemirror_mode": {
    "name": "ipython",
    "version": 3
   },
   "file_extension": ".py",
   "mimetype": "text/x-python",
   "name": "python",
   "nbconvert_exporter": "python",
   "pygments_lexer": "ipython3",
   "version": "3.7.0"
  }
 },
 "nbformat": 4,
 "nbformat_minor": 2
}
