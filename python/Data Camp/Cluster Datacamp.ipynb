{
 "cells": [
  {
   "cell_type": "markdown",
   "metadata": {},
   "source": [
    "Instalamos `seaborn` para crear gráficas atractivas.\n",
    "\n",
    "Por defecto ya contamos con `Pandas, pyplot, numpy, scikit, matplot`"
   ]
  },
  {
   "cell_type": "markdown",
   "metadata": {},
   "source": [
    "### Clustering por Hierarchy"
   ]
  },
  {
   "cell_type": "code",
   "execution_count": 3,
   "metadata": {},
   "outputs": [],
   "source": [
    "from scipy.cluster.hierarchy import linkage, fcluster\n",
    "from matplotlib import pyplot as plt\n",
    "import seaborn as sns, pandas as pd"
   ]
  },
  {
   "cell_type": "code",
   "execution_count": 4,
   "metadata": {},
   "outputs": [],
   "source": [
    "x_cordenadas =[80.1,93.1,86.8,98.5,86.4,9.5,15.2,3.4,10.4,20.3,44.2,56.8,49.2,62.5,44.0]\n",
    "y_cordenadas =[87.2,96.1,95.6,92.4,92.4,57.7,49.4,47.3,59.1,55.5,25.6,2.1,10.9,24.1,10.3]"
   ]
  },
  {
   "cell_type": "code",
   "execution_count": 5,
   "metadata": {},
   "outputs": [],
   "source": [
    "df = pd.DataFrame({'x_cord': x_cordenadas,\n",
    "                   'y_cord': y_cordenadas})"
   ]
  },
  {
   "cell_type": "markdown",
   "metadata": {},
   "source": [
    "La función `linkage()` calcula las distancias entre los grupos intermedios con el método `ward`\n",
    "\n",
    "La función `fcluster()` genera clusters y asigna etiquetas de clusters asocidos a una nueva columna en el dataframe\n"
   ]
  },
  {
   "cell_type": "code",
   "execution_count": 6,
   "metadata": {},
   "outputs": [],
   "source": [
    "Z = linkage(df,'ward')\n",
    "df['cluster_labels']= fcluster(Z, 3, criterion='maxclust')"
   ]
  },
  {
   "cell_type": "markdown",
   "metadata": {},
   "source": [
    "Finalmente, graficamos los puntos usando seaborn con las etiquetas de cluster, como el tono para asociar clusters con diferentes colores."
   ]
  },
  {
   "cell_type": "code",
   "execution_count": 7,
   "metadata": {},
   "outputs": [
    {
     "data": {
      "image/png": "[encoded data removed]",
      "text/plain": [
       "<Figure size 432x288 with 1 Axes>"
      ]
     },
     "metadata": {
      "needs_background": "light"
     },
     "output_type": "display_data"
    }
   ],
   "source": [
    "sns.scatterplot(x='x_cord', y='y_cord', hue='cluster_labels', data = df)\n",
    "plt.show()"
   ]
  },
  {
   "cell_type": "markdown",
   "metadata": {},
   "source": [
    "### Clustering por k-means"
   ]
  },
  {
   "cell_type": "markdown",
   "metadata": {},
   "source": [
    "Primero, el centro de un cluster se crea aleatoramente para cada uno de los tres clusters.\n",
    "Luego, la distancia al centro de esos clusters se calculan para cada punto para asignarlo al cluster más cercano. Los centros del cluster se vuelven a calcular. \n",
    "\n",
    "Esta iteración para re calcular el centro de los clusters se hace un predefinido número de veces.\n",
    "\n",
    "La agrupación K-means se completa usando las funciones `kmeans` y `vq` de scipy\n",
    "\n",
    "Los centroides de los grupos se calculan usando kmeans() y las asignaciones para cada punto se hace a través de vq(). El segundo argumento en cada método es 'distorción' la cual se captura en una variable artificial.\n",
    "\n",
    "Finalmente se grafican los datos usando `seaborn`"
   ]
  },
  {
   "cell_type": "code",
   "execution_count": 2,
   "metadata": {},
   "outputs": [],
   "source": [
    "from scipy.cluster.vq import kmeans, vq\n",
    "\n",
    "import random\n",
    "random.seed((1000,2000))"
   ]
  },
  {
   "cell_type": "code",
   "execution_count": 8,
   "metadata": {},
   "outputs": [],
   "source": [
    "centroids, _ =kmeans(df,3)\n",
    "df['cluster_lab'], _ =vq(df, centroids)"
   ]
  },
  {
   "cell_type": "code",
   "execution_count": 9,
   "metadata": {},
   "outputs": [
    {
     "data": {
      "image/png": "[encoded data removed]",
      "text/plain": [
       "<Figure size 432x288 with 1 Axes>"
      ]
     },
     "metadata": {
      "needs_background": "light"
     },
     "output_type": "display_data"
    }
   ],
   "source": [
    "sns.scatterplot(x='x_cord', y='y_cord', hue='cluster_lab', data = df)\n",
    "plt.show()"
   ]
  }
 ],
 "metadata": {
  "kernelspec": {
   "display_name": "Python 3",
   "language": "python",
   "name": "python3"
  },
  "language_info": {
   "codemirror_mode": {
    "name": "ipython",
    "version": 3
   },
   "file_extension": ".py",
   "mimetype": "text/x-python",
   "name": "python",
   "nbconvert_exporter": "python",
   "pygments_lexer": "ipython3",
   "version": "3.7.0"
  }
 },
 "nbformat": 4,
 "nbformat_minor": 2
}
