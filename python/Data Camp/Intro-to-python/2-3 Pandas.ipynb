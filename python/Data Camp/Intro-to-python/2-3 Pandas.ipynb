{
 "cells": [
  {
   "cell_type": "markdown",
   "metadata": {},
   "source": [
    "## PANDAS\n",
    "\n",
    "Pandas es una librería de código abierto, provee un alto performance estructuras de datos fáciles de usar y herramientas de analisis de datos.\n",
    "\n",
    "EL DataFrame es una de las estructuras de datos más importantes en Pandas. Es básicamente una forma de almacenar datos tabulares donde se pueden etiquetar las filas y las columnas. Una forma de crear un DataFrame es mediante un diccionario.\n",
    "\n",
    "Trabajaremos con unos datos.\n",
    "\n",
    "`nombres` : contiene los países donde se disponen los datos.\n",
    "\n",
    "`dr` : Una lista con Booleanos que indica si la gente maneja del lado izquierdo o derecho.\n",
    "\n",
    "`cpc` : El número de vehículos por cada 1000 personas en el país correspondiente.\n",
    "\n",
    "Cada clave de diccionario es una etiqueta de columna y cada valor es una lista que contiene los elementos de la columna.\n",
    "\n"
   ]
  },
  {
   "cell_type": "code",
   "execution_count": 1,
   "metadata": {},
   "outputs": [
    {
     "name": "stdout",
     "output_type": "stream",
     "text": [
      "         country  drives_right  cars_per_cap\n",
      "0  United States          True           809\n",
      "1      Australia         False           731\n",
      "2          Japan         False           588\n",
      "3          India         False            18\n",
      "4         Russia          True           200\n",
      "5        Morocco          True            70\n",
      "6          Egypt          True            45\n"
     ]
    }
   ],
   "source": [
    "'''Import pandas as pd.\n",
    "* Use the pre-defined lists to create a dictionary called my_dict. There should be three key value pairs:\n",
    " - key 'country' and value names.\n",
    " - key 'drives_right' and value dr.\n",
    " -key 'cars_per_cap' and value cpc.\n",
    "* Use pd.DataFrame() to turn your dict into a DataFrame called cars.\n",
    "* Print out cars and see how beautiful it is. \n",
    "'''\n",
    "# Pre-defined lists\n",
    "names = ['United States', 'Australia', 'Japan', 'India', 'Russia', 'Morocco', 'Egypt']\n",
    "dr =  [True, False, False, False, True, True, True]\n",
    "cpc = [809, 731, 588, 18, 200, 70, 45]\n",
    "\n",
    "# Import pandas as pd\n",
    "import pandas as pd\n",
    "\n",
    "# Create dictionary my_dict with three key:value pairs: my_dict\n",
    "my_dict = {}\n",
    "my_dict['country']=names\n",
    "my_dict['drives_right']=dr\n",
    "my_dict['cars_per_cap']=cpc\n",
    "\n",
    "# dict = { 'country':names, 'drives_right':dr, 'cars_per_cap':cpc } También se pudo definir así\n",
    "\n",
    "# Build a DataFrame cars from my_dict: cars\n",
    "cars= pd.DataFrame(my_dict)\n",
    "\n",
    "# Print cars\n",
    "print(cars)"
   ]
  },
  {
   "cell_type": "markdown",
   "metadata": {},
   "source": [
    "Notaste como automáticamente enumeró las filas de 0 a 6 ? Se pueden sustituir por una etiqueta en cada fila con el método `index()` del DataFrame \n",
    "\n",
    "Para especificar las etiquetas de las filas iguala `cars.index = row_labels `\n",
    "\n"
   ]
  },
  {
   "cell_type": "code",
   "execution_count": 2,
   "metadata": {
    "scrolled": true
   },
   "outputs": [
    {
     "name": "stdout",
     "output_type": "stream",
     "text": [
      "           country  drives_right  cars_per_cap\n",
      "US   United States          True           809\n",
      "AUS      Australia         False           731\n",
      "JAP          Japan         False           588\n",
      "IN           India         False            18\n",
      "RU          Russia          True           200\n",
      "MOR        Morocco          True            70\n",
      "EG           Egypt          True            45\n"
     ]
    }
   ],
   "source": [
    "\n",
    "import pandas as pd\n",
    "\n",
    "# Build cars DataFrame\n",
    "names = ['United States', 'Australia', 'Japan', 'India', 'Russia', 'Morocco', 'Egypt']\n",
    "dr =  [True, False, False, False, True, True, True]\n",
    "cpc = [809, 731, 588, 18, 200, 70, 45]\n",
    "dict = { 'country':names, 'drives_right':dr, 'cars_per_cap':cpc }\n",
    "cars = pd.DataFrame(dict)\n",
    "\n",
    "\n",
    "# Definition of row_labels\n",
    "row_labels = ['US', 'AUS', 'JAP', 'IN', 'RU', 'MOR', 'EG']\n",
    "\n",
    "# Specify row labels of cars\n",
    "cars.index = row_labels\n",
    "\n",
    "# Print cars again\n",
    "print(cars)"
   ]
  },
  {
   "cell_type": "markdown",
   "metadata": {},
   "source": [
    "### Importando CSV\n",
    "Para importar un csv en python como un DataFrame de Pandas puedes usar `read_csv()`\n",
    "\n",
    "Exploremos esta función con los mismos datos de los autos. Esta vez, los datos están disponibles en un CSV, llamado cars.csv.\n",
    "\n",
    "Recuerda `index.col` es un argumento en `pd.read_csv()` que puedes usar para especificar qué columna en el archivo CSV debe ser usado como etiqueta de fila."
   ]
  },
  {
   "cell_type": "code",
   "execution_count": 3,
   "metadata": {},
   "outputs": [
    {
     "name": "stdout",
     "output_type": "stream",
     "text": [
      "           country  drives_right  cars_per_cap\n",
      "US   United States          True           809\n",
      "AUS      Australia         False           731\n",
      "JAP          Japan         False           588\n",
      "IN           India         False            18\n",
      "RU          Russia          True           200\n",
      "MOR        Morocco          True            70\n",
      "EG           Egypt          True            45\n"
     ]
    }
   ],
   "source": [
    "import pandas as pd\n",
    "\n",
    "cars= pd.read_csv('cars.csv',sep=';',index_col=0)\n",
    "\n",
    "print(cars)\n"
   ]
  },
  {
   "cell_type": "markdown",
   "metadata": {},
   "source": [
    "### Acceder a la columna\n",
    "\n",
    "Supongamos que solo necesitamos seleccionar la columna de país. Con corchetes `[ \"columna\" ]` colocamos la etiqueta de la columna y automaticamente Python imprimirá los países junto con la etiqueta de la fila. \n",
    "\n",
    "El valor devuelto será una columna de tipo **Serie** pero si lo que queremos es que lo devuelta como un tipo **DataFrame** entonces debemos pedirlo entre dobles corchetes `[ [\"columna\", \"columna2\"] ]`\n",
    "\n",
    "### Acceso a Filas\n",
    "\n",
    "Para acceder a las filas lo podemos hacer mediante corchetes y especificando la porción. Suponiendo que deseamos obtener el segundo, tercer y cuarto renglón, usamos la porción 1 : 4 pues sabemos que se empieza a indexar dede la posición cero y el final de la porción no está incluida.\n",
    "\n",
    "Si queremos acceder a la información de la misma forma que Numpy, Pandas implementa las funciones `loc y iloc` \n",
    "\n",
    "- loc es una técnica para seleccionar partes de nuestros datos basados en etiquetas\n",
    "- iloc está basado en posiciones \n",
    "\n",
    "`DataFrame.loc['RU']` nos devolverá la información en distintas líneas. Si lo deseamos visualizar como un renglón, debemos señalarlo dentro de dos corchetes `DataFrame.loc[['RU']]` inclusive podemos mostrar más filas indicando sus identificadores.\n",
    "`DataFrame.loc[['RU','IN','US']]`\n",
    "\n",
    "También podemos incluir las etiquetas de las columnas dentro de el método **loc** y nos devolverá la intersección de los datos que contienen las etiquetas. `DataFrame.loc[['RU','IN','US'],[country,cars_per_cap]]`\n",
    "\n",
    "Inclusive se pueden añadir todas las filas y las columnas solicitadas  `DataFrame.loc[ : ,[country,cars_per_cap]]`"
   ]
  },
  {
   "cell_type": "code",
   "execution_count": 4,
   "metadata": {},
   "outputs": [
    {
     "name": "stdout",
     "output_type": "stream",
     "text": [
      "country         Russia\n",
      "drives_right      True\n",
      "cars_per_cap       200\n",
      "Name: RU, dtype: object\n",
      "\n",
      "\n",
      "   country  drives_right  cars_per_cap\n",
      "RU  Russia          True           200\n",
      "\n",
      "\n",
      "US     United States\n",
      "AUS        Australia\n",
      "JAP            Japan\n",
      "IN             India\n",
      "RU            Russia\n",
      "MOR          Morocco\n",
      "EG             Egypt\n",
      "Name: country, dtype: object \n",
      "\n",
      "           country\n",
      "US   United States\n",
      "AUS      Australia\n",
      "JAP          Japan\n",
      "IN           India\n",
      "RU          Russia\n",
      "MOR        Morocco\n",
      "EG           Egypt \n",
      "\n",
      "           country  drives_right\n",
      "US   United States          True\n",
      "AUS      Australia         False\n",
      "JAP          Japan         False\n",
      "IN           India         False\n",
      "RU          Russia          True\n",
      "MOR        Morocco          True\n",
      "EG           Egypt          True\n"
     ]
    }
   ],
   "source": [
    "#Un renglón en varias lineas\n",
    "print(cars.loc['RU'])\n",
    "print('\\n')\n",
    "\n",
    "# El mismo renglón en una sola\n",
    "print(cars.loc[['RU']])\n",
    "print('\\n')\n",
    "\n",
    "# Print out country column as Pandas Series\n",
    "print(cars['country'] ,'\\n')\n",
    "\n",
    "# Print out country column as Pandas DataFrame\n",
    "print(cars[['country']], '\\n')\n",
    "\n",
    "# Print out DataFrame with country and drives_right columns\n",
    "print(cars.loc[:,['country','drives_right']])"
   ]
  },
  {
   "cell_type": "markdown",
   "metadata": {},
   "source": [
    "### Operadores de Comparación\n",
    "\n",
    "Para comparar arreglos\n",
    "\n",
    "- AND se utiliza `np.logical_and(serie1 , serie2 )`\n",
    "- OR  se utiliza `np.logical_or(serie1, serie2 )`\n",
    "- NOT se utiliza `np.logical_not( serie )`\n",
    "\n",
    "Para expresiones atomicas usamos:\n",
    "- AND\n",
    "- OR\n",
    "- NOT\n",
    "\n"
   ]
  },
  {
   "cell_type": "code",
   "execution_count": 5,
   "metadata": {},
   "outputs": [
    {
     "name": "stdout",
     "output_type": "stream",
     "text": [
      "[False  True False  True]\n",
      "[False False False  True]\n"
     ]
    }
   ],
   "source": [
    "import numpy as np\n",
    "my_house = np.array([18.0, 20.0, 10.75, 9.50])\n",
    "your_house = np.array([14.0, 24.0, 14.25, 9.0])\n",
    "\n",
    "# my_house greater than 18.5 or smaller than 10\n",
    "\n",
    "print(np.logical_or(my_house > 18.5, my_house < 10) )\n",
    "\n",
    "# Both my_house and your_house smaller than 11\n",
    "\n",
    "print( np.logical_and(my_house < 11 , your_house <11) )\n"
   ]
  },
  {
   "cell_type": "markdown",
   "metadata": {},
   "source": [
    "### if, elif, else\n",
    "\n",
    "He aquí un ejemplo de como se ejecutan.\n",
    "\n",
    "~~~py\n",
    "area = 10.0\n",
    "if(area < 9) :\n",
    "    print(\"small\")\n",
    "elif(area < 12) :\n",
    "    print(\"medium\")\n",
    "else :\n",
    "    print(\"large\")\n",
    "~~~\n",
    "\n",
    "\n",
    "\n",
    "## Filtrando un DataFrame con Pandas\n",
    "\n",
    "Vamos a encontrar todas las observaciones en donde `drives_right` sea Verdadero.\n",
    "\n",
    " `drives_right` es de tipo booleano, así que habrá que extraerlo como serie y usar esta para seleccionar las observaciones del Data Frame.\n",
    " \n",
    "~~~py\n",
    "# Extract drives_right column as Series: dr\n",
    "dr = cars['drives_right'] == True\n",
    "\n",
    "# Use dr to subset cars: sel\n",
    "sel = cars[dr]\n",
    "\n",
    "# Print sel\n",
    "print(sel)\n",
    "\n",
    "~~~\n",
    "\n",
    "De esta manera se filtra y se obtienen los datos de Data Drame que cumplen con la condición.\n",
    "\n",
    "Aunque esta selección se podría hacer de esta otra manera:\n",
    "\n",
    "~~~py\n",
    "#En una línea\n",
    "\n",
    "# Convert code to a one-liner\n",
    "\n",
    "sel = cars[ cars['drives_right'] == True ]\n",
    "\n",
    "# Print sel\n",
    "print(sel)\n",
    "\n",
    "~~~\n",
    "\n",
    "Ahora vamos a filtrar por cantidades. ¿en qué países tienen más autos por persona?\n",
    "* Guardamos la serie `cars_per_cap` del DataFrame en la variable `cpc`\n",
    "* Vamos a filtrar los autos per cápita en cada país en donde sean mayores a 500 \n",
    "* Obteniendo el filtro, lo aplicamos en el DataFrame que devolverá los datos de los países.\n",
    "\n",
    "~~~py\n",
    "cpc = cars['cars_per_cap']\n",
    "many_cars = cpc > 500\n",
    "# Create car_maniac: observations that have a cars_per_cap over 500\n",
    "car_maniac = cars[many_cars]\n",
    "\n",
    "print(car_maniac)\n",
    "~~~\n",
    "\n",
    "#### Filtrado por intervalos\n",
    "\n",
    "Para filtrar por inervalos en Series necesitaremos la ayuda de Numpy\n",
    "\n",
    "Filtremos las observaciones que contengan `cars_per_cap` entre 100 y 500\n",
    "\n",
    "~~~py\n",
    "import numpy as np\n",
    "\n",
    "medium = np.logical_and(cars['cars_per_cap']>=100,cars['cars_per_cap']<=500)\n",
    "print(cars[medium])\n",
    "~~~\n",
    "\n",
    "\n",
    "## LOOPS\n",
    "\n",
    "- WHILE\n",
    "\n",
    "La sintaxis de el ciclo while es \n",
    "\n",
    "~~~py \n",
    "while condicion:\n",
    "    expresion\n",
    "~~~\n",
    "\n",
    "- FOR\n",
    "\n",
    "La sintaxis del `FOR` es \n",
    "\n",
    "~~~py\n",
    "for var in seq:\n",
    "    expresion\n",
    "\n",
    "# ###########################\n",
    "\n",
    "for estatura in fam:\n",
    "    print( estatura )\n",
    "    \n",
    "# Esto significa: Quiero ejecutar este codigo para cada altura en la lista fam\n",
    "\n",
    "~~~\n",
    " En el case anterior no tenemos el índice de los datos. Para lograr esto podemos utilizar `enumerate()` \n",
    " \n",
    " ~~~py\n",
    " for indice, estatura in enumerate( fam ):\n",
    "     \n",
    " ~~~\n",
    "\n",
    "Ahora,  `enumerate`  pruduce dos valores en cada iteración: el índice del valor y el valor en sí. En lugar de escribir una variable, ahora escribiremos dos (`indice` , `estatura`), así en cada iteración `indice` contendrá en indice y `altura` contendrá el valor. Esto significa que podemos mejorar nuestra impresión con una forma un poco más complicada.\n",
    "\n",
    "~~~py\n",
    "    print(\"index \" + str(indice) + \": \" + str(estatura))\n",
    "~~~\n"
   ]
  },
  {
   "cell_type": "code",
   "execution_count": 6,
   "metadata": {},
   "outputs": [
    {
     "name": "stdout",
     "output_type": "stream",
     "text": [
      "the hallway is 11.25 sqm\n",
      "the kitchen is 18.0 sqm\n",
      "the living room is 20.0 sqm\n",
      "the bedroom is 10.75 sqm\n",
      "the bathroom is 9.5 sqm\n"
     ]
    }
   ],
   "source": [
    "# Escribe un for que recorra cada sublista de house e imprima \n",
    "# 'the x is y sqm' en donde x es el nombre del cuarto y 'y' es el área del cuarto\n",
    "\n",
    "# house list of lists\n",
    "house = [[\"hallway\", 11.25], \n",
    "         [\"kitchen\", 18.0], \n",
    "         [\"living room\", 20.0], \n",
    "         [\"bedroom\", 10.75], \n",
    "         [\"bathroom\", 9.50]]\n",
    "         \n",
    "# Build a for loop from scratch\n",
    "\n",
    "for x,y in house:\n",
    "    print('the '+ x + ' is ' + str(y)+ ' sqm')\n"
   ]
  },
  {
   "cell_type": "markdown",
   "metadata": {},
   "source": [
    "### Loops en Diccionarios\n",
    "\n",
    "Para recorrer un Diccionario, lo podemos hacer mediante el método `items()` el cual nos devuelve una tupla de la clave y su contenido.\n",
    "Así podemos recorrerlo \n",
    "\n",
    "~~~py \n",
    "for x,y in diccionario.items():\n",
    "    print(x)\n",
    "    print(y)\n",
    "\n",
    "~~~\n",
    "\n",
    "Si se desea recorrer un arreglo 2D de Numpy se vuelve más complicado, pues esos arreglos están compuestos por multiples arreglos de una dimensión. Para iterar explicitamente sobre todos los elementos separados de un arreglo multidimensional, se necesitará de esta sintaxis.\n",
    "\n",
    "~~~py\n",
    "for x in np.nditer(my_arreglo):\n",
    "    print(x)\n",
    "\n",
    "~~~\n",
    "\n",
    "Iterar en un diccionario de Pandas se realiza a menudo con el método `iterrows()` Dentro del `for` , cada observación es iterada y en cada iteración la etiqueta y el contenido de la fila es alcanzable.\n",
    "\n",
    "\n",
    "~~~py\n",
    "for lab, rows in brics.iterrows() :\n",
    "    print(lab)\n",
    "    print(rows)\n",
    "\n",
    "~~~\n",
    "\n",
    "Cada fila que se genera en `iterrows()` en cada corrida es una Serie  de Panda. Este formato no es muy conveniente. Afortunadamente puedes seleccionar facilmente las variables de la serie usando los corchetes.\n",
    "\n",
    "~~~py\n",
    "for lab, rows in brics.iterrows() :\n",
    "    print(row['country'])\n",
    "~~~\n",
    "\n",
    "\n",
    "\n",
    "\n",
    "\n",
    "\n"
   ]
  },
  {
   "cell_type": "code",
   "execution_count": 7,
   "metadata": {},
   "outputs": [
    {
     "name": "stdout",
     "output_type": "stream",
     "text": [
      "US : 809\n",
      "AUS : 731\n",
      "JAP : 588\n",
      "IN : 18\n",
      "RU : 200\n",
      "MOR : 70\n",
      "EG : 45\n"
     ]
    }
   ],
   "source": [
    "for lab, row in cars.iterrows():\n",
    "    print(lab+' : '+str(row['cars_per_cap']))"
   ]
  },
  {
   "cell_type": "markdown",
   "metadata": {},
   "source": [
    "### Inserción de columnas\n",
    "Podemos insertar más columnas al diccionario por medio del método `loc`\n",
    "\n",
    "~~~py\n",
    "# Añadimos el largo del nombre en el país\n",
    "\n",
    "for lab,row in brics.iterrows() :\n",
    "    brics.loc[lab, 'nueva_columna']= len(row[\"country\"])\n",
    "~~~\n",
    "\n"
   ]
  },
  {
   "cell_type": "code",
   "execution_count": 8,
   "metadata": {
    "scrolled": true
   },
   "outputs": [
    {
     "name": "stdout",
     "output_type": "stream",
     "text": [
      "           country  drives_right  cars_per_cap        COUNTRY\n",
      "US   United States          True           809  UNITED STATES\n",
      "AUS      Australia         False           731      AUSTRALIA\n",
      "JAP          Japan         False           588          JAPAN\n",
      "IN           India         False            18          INDIA\n",
      "RU          Russia          True           200         RUSSIA\n",
      "MOR        Morocco          True            70        MOROCCO\n",
      "EG           Egypt          True            45          EGYPT\n"
     ]
    }
   ],
   "source": [
    "# Usa un for para añadir una nueva columna llamada COUNTRY que contenga el nombre del país en mayúsculas (uppercase, upper() )\n",
    "\n",
    "for lab,row in cars.iterrows():\n",
    "    cars.loc[lab,'COUNTRY']= row['country'].upper()\n",
    "\n",
    "print(cars)\n"
   ]
  },
  {
   "cell_type": "markdown",
   "metadata": {},
   "source": [
    "Es fácil usar `iterrows()` en un DataFrame de Pandas, pero no es muy eficiente. En cada iteración, estamos creando una nueva serie de Pandas.\n",
    "Si se desea agregar una columna en un DataFrame llamando una función en otra columna se debería utilizar directamente el método `apply()` esto aplica una función a la serie directamente pasada como parámetro.\n",
    "\n",
    "~~~py\n",
    "# Comparalas dos versiones  con iterrows() y apply()\n",
    "\n",
    "# iterrows()\n",
    "for lab, row in brics.iterrows() :\n",
    "    brics.loc[lab, \"name_length\"] = len(row[\"country\"])\n",
    "\n",
    "# Apply\n",
    "brics[\"name_length\"] = brics[\"country\"].apply(len)\n",
    "\n",
    "~~~\n",
    " Podemos hacer algo similar llamando al método `upper()` en cada nombre de la columna **país** , aunque `upper()` es un método, necesitaremos una aproximación un poco diferente.\n",
    " \n",
    "~~~py\n",
    "cars[\"COUNTRY\"] = cars[\"country\"].apply(str.upper) \n",
    "~~~\n",
    " "
   ]
  },
  {
   "cell_type": "code",
   "execution_count": null,
   "metadata": {},
   "outputs": [],
   "source": []
  }
 ],
 "metadata": {
  "kernelspec": {
   "display_name": "Python 3",
   "language": "python",
   "name": "python3"
  },
  "language_info": {
   "codemirror_mode": {
    "name": "ipython",
    "version": 3
   },
   "file_extension": ".py",
   "mimetype": "text/x-python",
   "name": "python",
   "nbconvert_exporter": "python",
   "pygments_lexer": "ipython3",
   "version": "3.7.3"
  }
 },
 "nbformat": 4,
 "nbformat_minor": 2
}
