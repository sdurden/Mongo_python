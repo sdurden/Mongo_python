{
 "cells": [
  {
   "cell_type": "markdown",
   "metadata": {},
   "source": [
    "### Funciones\n",
    "\n",
    "Para definir funciones lo hacemos mediante la palabra reservada `def` seguido del nombre de la función y dus puntos. Luego viente el cuerpo de la función y si regresará algun valor, lo haceos con la palabra `return`\n",
    "\n",
    "~~~py\n",
    "def mi_funcion():\n",
    "    print(\"Hola Mundo!\")\n",
    "    \n",
    "~~~"
   ]
  },
  {
   "cell_type": "markdown",
   "metadata": {},
   "source": [
    "### Funciones Anidadas\n",
    "\n",
    "Otra buena razón para anidar funciones es la idea de un **cierre**. Esto significa que las funciones internas o anidadas saben el estado de su función externa cuando las llaman. Así, cualquier cosa definida localmente en el encierre telescópico está disponible en la función interna aún cuando la función externa ha terminado su ejecución.\n",
    "\n",
    "Sigamos adelante. En este ejemplo veremos la definición de una función anidada `inner_echo()` y así llamar a `echo()` un par de veces, cada una con diferentes argumentos.\n"
   ]
  },
  {
   "cell_type": "code",
   "execution_count": 1,
   "metadata": {},
   "outputs": [
    {
     "name": "stdout",
     "output_type": "stream",
     "text": [
      "hellohello hellohellohello\n"
     ]
    }
   ],
   "source": [
    "# Define echo\n",
    "def echo(n):\n",
    "    \"\"\"Return the inner_echo function.\"\"\"\n",
    "\n",
    "    # Define inner_echo\n",
    "    def inner_echo(word1):\n",
    "        \"\"\"Concatenate n copies of word1.\"\"\"\n",
    "        echo_word = word1 * n\n",
    "        return echo_word\n",
    "\n",
    "    # Return inner_echo\n",
    "    return inner_echo\n",
    "\n",
    "# Call echo: twice\n",
    "twice = echo(2)\n",
    "\n",
    "# Call echo: thrice\n",
    "thrice = echo(3)\n",
    "\n",
    "# Call twice() and thrice() then print\n",
    "print(twice('hello'), thrice('hello'))"
   ]
  },
  {
   "cell_type": "markdown",
   "metadata": {},
   "source": [
    "### Funciones con argumentos de largo variable *args\n",
    "\n",
    "Argumentos flexibles permiten pasar un número variable de argumentos a una función. \n",
    "\n",
    "La funcón a definir es `gibberish()` que puede aceptar un numero variable de valores tipo cadena. Regresará una cadena compuesta por todos los argumentos pasados concatenados en orden en que se fueron llamando. Hay que añadir que en la definición de función `args` es una tupla.\n",
    "\n"
   ]
  },
  {
   "cell_type": "code",
   "execution_count": 2,
   "metadata": {},
   "outputs": [
    {
     "name": "stdout",
     "output_type": "stream",
     "text": [
      "luke\n",
      "lukeleiahanobidarth\n"
     ]
    }
   ],
   "source": [
    "# Define gibberish\n",
    "def gibberish(*args):\n",
    "    \"\"\"Concatena cadenas con *args together.\"\"\"\n",
    "\n",
    "    # Initializar una cadena vacía: hodgepodge\n",
    "    hodgepodge=\"\"\n",
    "\n",
    "    # Concatenar las cadenas en args\n",
    "    for word in args:\n",
    "        hodgepodge += word\n",
    "\n",
    "    # Return hodgepodge\n",
    "    return hodgepodge\n",
    "\n",
    "# Invoca gibberish() con una cadena: one_word\n",
    "one_word = gibberish('luke')\n",
    "\n",
    "# Invoca gibberish() con cinco cadenas: many_words\n",
    "many_words = gibberish(\"luke\", \"leia\", \"han\", \"obi\", \"darth\")\n",
    "\n",
    "# Imprime one_word and many_words\n",
    "print(one_word)\n",
    "print(many_words)"
   ]
  },
  {
   "cell_type": "markdown",
   "metadata": {},
   "source": [
    "### Funciones con multiples argumentos variables\n",
    "\n",
    "Lo que hace diferente a **kwargs es que te permite pasar un número variables como parámetro (keywords) en la definición de  funciones. \n",
    "\n"
   ]
  },
  {
   "cell_type": "markdown",
   "metadata": {},
   "source": [
    "### Manejo de errores\n",
    "\n",
    "#### Errores y excepciones \n",
    "\n",
    "- Excepciones - atrapados dentro de la ejecución\n",
    "- Catch exceptions con la cláusula try-except \n",
    " - Ejecuta el código despues de `try`\n",
    " - Si hay una exception, ejecuta el código seguido de `except`\n",
    "\n",
    "\n"
   ]
  },
  {
   "cell_type": "code",
   "execution_count": 12,
   "metadata": {},
   "outputs": [
    {
     "name": "stdout",
     "output_type": "stream",
     "text": [
      "2.0\n",
      "3.1622776601683795\n",
      "x must be an int or float\n"
     ]
    }
   ],
   "source": [
    "def sqrt(x):\n",
    "    try:\n",
    "        return x ** 0.5\n",
    "    except TypeError:\n",
    "        print('x must be an int or float')\n",
    "print(sqrt(4))\n",
    "print(sqrt(10.0))\n",
    "sqrt('hi')\n"
   ]
  },
  {
   "cell_type": "markdown",
   "metadata": {},
   "source": [
    "#### Manejo de Errores por raise\n",
    "\n",
    "Otra forma de mostrar un error es por medio de `raise`.\n",
    "\n",
    "Si se cumple una cierta condición, se puede añadir \n",
    "~~~py\n",
    "raise ValueError('Error, condición no válida')\n",
    "~~~\n",
    "\n",
    "Así cuando se ejecute el código y se cumpla la condición, mandará un mensaje de error."
   ]
  },
  {
   "cell_type": "code",
   "execution_count": null,
   "metadata": {},
   "outputs": [],
   "source": []
  }
 ],
 "metadata": {
  "kernelspec": {
   "display_name": "Python 3",
   "language": "python",
   "name": "python3"
  },
  "language_info": {
   "codemirror_mode": {
    "name": "ipython",
    "version": 3
   },
   "file_extension": ".py",
   "mimetype": "text/x-python",
   "name": "python",
   "nbconvert_exporter": "python",
   "pygments_lexer": "ipython3",
   "version": "3.7.3"
  }
 },
 "nbformat": 4,
 "nbformat_minor": 2
}
