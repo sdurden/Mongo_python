{
 "cells": [
  {
   "cell_type": "markdown",
   "metadata": {},
   "source": [
    "## Python MongoDB\n",
    "\n",
    "Python puede usarse en aplicaciones de base de datos.\n",
    "Una de las más populares bases NOSQL es MonoDB\n",
    "\n",
    "\n",
    "### MongoDB\n",
    "\n",
    "MongoDB almacena datos en documentos JSON, lo cual hace la base de datos muy flexible y escalable.\n",
    "\n",
    "### PyMongo\n",
    "\n",
    "Python necesita un manejador de Mongo para acceder a la base. En este caso usaremos `PyMongo` \n",
    "\n",
    "### Probar Mongo\n",
    "\n",
    "Para probar si la instalación fue exitosa, o si ya se tiene \"pymongo\" instalado, crea una pagina de Python con el siguiente contenido.\n",
    "\n",
    "Si el comando se ejecuta sin errores, entonces ya es posible manipular la información por medio de PyMongo"
   ]
  },
  {
   "cell_type": "code",
   "execution_count": 3,
   "metadata": {},
   "outputs": [],
   "source": [
    "import pymongo\n"
   ]
  },
  {
   "cell_type": "markdown",
   "metadata": {},
   "source": [
    "### Creando una Base de Datos\n",
    "\n",
    "Para crear una base de datos en Mongo, empieza por crear un objeto cliente, después especificar una conexión URL con la ip correcta y el nombre de la base de datos que se quiere crear.\n",
    "\n",
    "Mongo creará una base de datos si no existe y hará una conexión a ella.\n",
    "\n",
    "\n",
    "**En MongoDB una base de datos no se crea hasta que tenga contenido.**\n",
    "\n",
    "### Crear una Colección\n",
    "\n",
    "Una **Colección** en MongoDB es igual a una tabla en SQL\n",
    "\n",
    "Para crear una Colección en Mongo, usa un objeto \"Base de datos\" y especifica el nombre de la colección que desees crear.\n",
    "\n",
    "Mongo creará una colección si es que no existe\n",
    "\n",
    "Ejemplo. Crear una collección llamada **Cientes**\n",
    "\n",
    "~~~py\n",
    "import pymongo\n",
    "\n",
    "micilente = pymongo.MongoClient(\"mongodb://localhost:27017/\")\n",
    "mydb = myclient[\"mydatabase\"]\n",
    "\n",
    "mycol = mydb[\"clientes\"]\n",
    "\n",
    "\n",
    "~~~\n",
    "\n",
    "**En Mongo una colección no se crea hasta que tenga contenido. Mongo espera hasta que hayas insertado un documento antes de que cree una colección**\n",
    "\n",
    "\n",
    "### Insertar un Documento\n",
    "\n",
    "Un **Docuemento** en Mongo es lo mismo que un registro en SQL\n",
    "\n",
    "Para insertar una registro o *documento* en una colección (Tabla), usamos el método `insert_one()`\n",
    "\n",
    "El primer parámetro del método es un diccionario que contiene el nombre y los valores de cada campo en el documento que se desea insertar.\n",
    "\n",
    "\n",
    "Ejemplo. Insertar un registro en la colección \"clientes\":\n",
    "\n",
    "~~~py\n",
    "import pymongo\n",
    "\n",
    "micliente = pymongo.MongoClient(\"mongodb://localhost:27017/\")\n",
    "\n",
    "mydb = myclient[\"mydatabase\"]\n",
    "\n",
    "mycol = [\"clientes\"]\n",
    "\n",
    "\n",
    "mydicc = {\"nombre\" : \"Saltiel\", \"Direccion\": \"Lucio Blanco 461\"}\n",
    "\n",
    "x = mycol.insert_one(mydict)\n",
    "\n",
    "~~~\n",
    "\n",
    "#### Regresr el campo _id\n",
    "\n",
    "El método `insert_one()` regresa un objeto *InsertOneResult* el cual tiene una propiedad, `inserted_id` que contiene el id del documento insertado.\n",
    "\n",
    "Si no se especifica un `_id` entonces Mongo agregará uno por ti y asignará un id único para cada documento.\n",
    "\n",
    "~~~\n",
    "print(x.inserted_id)\n",
    "~~~\n",
    "\n",
    "\n",
    "### Insertar Multiples Documentos\n",
    "\n",
    "Para isertar multiples documentos en una colección en Mongo usamos el método `insert_many()`\n",
    "\n",
    "El parámetro que acepta `insert_many()` es una lista que contiene los diccionarios con los datos que se desean insertar.\n",
    "\n",
    "EL método regresa un objeto *InsertManyResult* que posee la propiedad `inserted_ids` la cual indica los id's de los documentos insertados.\n",
    "\n",
    "~~~py\n",
    "import pymongo\n",
    "\n",
    "micliente = pymongo.MongoClient(\"mongodb://localhost:27017/\")\n",
    "mydb = micliente[\"mydatabase\"]\n",
    "mycol = mydb[\"cliente\"]\n",
    "\n",
    "mylist = [\n",
    "  { \"_id\": 1, \"name\": \"John\", \"address\": \"Highway 37\"},\n",
    "  { \"_id\": 2, \"name\": \"Peter\", \"address\": \"Lowstreet 27\"},\n",
    "  { \"_id\": 3, \"name\": \"Amy\", \"address\": \"Apple st 652\"},\n",
    "  { \"_id\": 4, \"name\": \"Hannah\", \"address\": \"Mountain 21\"},\n",
    "  { \"_id\": 5, \"name\": \"Michael\", \"address\": \"Valley 345\"},\n",
    "  { \"_id\": 6, \"name\": \"Sandy\", \"address\": \"Ocean blvd 2\"},\n",
    "  { \"_id\": 7, \"name\": \"Betty\", \"address\": \"Green Grass 1\"},\n",
    "  { \"_id\": 8, \"name\": \"Richard\", \"address\": \"Sky st 331\"},\n",
    "  { \"_id\": 9, \"name\": \"Susan\", \"address\": \"One way 98\"},\n",
    "  { \"_id\": 10, \"name\": \"Vicky\", \"address\": \"Yellow Garden 2\"},\n",
    "  { \"_id\": 11, \"name\": \"Ben\", \"address\": \"Park Lane 38\"},\n",
    "  { \"_id\": 12, \"name\": \"William\", \"address\": \"Central st 954\"},\n",
    "  { \"_id\": 13, \"name\": \"Chuck\", \"address\": \"Main Road 989\"},\n",
    "  { \"_id\": 14, \"name\": \"Viola\", \"address\": \"Sideway 1633\"}\n",
    "]\n",
    "\n",
    "x = mycol.insert_many(mylist)\n",
    "\n",
    "#Imprime la lista de _id de los documentos insertados:\n",
    "print(x.inserted_ids)\n",
    "\n",
    "~~~"
   ]
  },
  {
   "cell_type": "markdown",
   "metadata": {},
   "source": [
    "### Verificar si existe una Base de Datos\n",
    "\n",
    "Se puede verificar si existe una base de datos, listando todas las bases en el sistema:"
   ]
  },
  {
   "cell_type": "code",
   "execution_count": 1,
   "metadata": {},
   "outputs": [
    {
     "name": "stdout",
     "output_type": "stream",
     "text": [
      "['CRM', 'admin', 'config', 'local']\n"
     ]
    }
   ],
   "source": [
    "import pymongo \n",
    "\n",
    "micliente =pymongo.MongoClient(\"mongodb://localhost:27017/\")\n",
    "\n",
    "print(micliente.list_database_names())"
   ]
  },
  {
   "cell_type": "markdown",
   "metadata": {},
   "source": [
    "### Verificar si existe una colección \n",
    "\n",
    "Puedes verificar si existe una colección en una base de datos enlistando todas las colecciones:\n"
   ]
  },
  {
   "cell_type": "code",
   "execution_count": 7,
   "metadata": {},
   "outputs": [
    {
     "name": "stdout",
     "output_type": "stream",
     "text": [
      "['startup_log']\n"
     ]
    }
   ],
   "source": [
    "# seleccionamos la base de datos \"local\" y la guardamos en la variable mydb\n",
    "mydb = micliente['local']\n",
    "\n",
    "# imprimimos las colecciones contenidas en esa base de datos\n",
    "\n",
    "print(mydb.list_collection_names())\n"
   ]
  },
  {
   "cell_type": "markdown",
   "metadata": {},
   "source": [
    "### Find One\n",
    "\n",
    "En Mongo se utilizan los métodos **find** y **findOne** para encontrar datos dentro de las colecciones.\n",
    "\n",
    "Así como la sentencia **SELECT** es utilizada para buscar datos en una tabla.\n",
    "\n",
    "Para seleccionar datos de una colección en Mongo, podemos utilizar `find_one()` lo cual no s devolverá la primera ocurrencia en la selección.\n",
    "\n",
    "### Find All\n",
    "\n",
    "Para obtener todas las ocurrencias en la selección, el primer parámetro de `find()` es un Query. En este ejemplo usamos un objeto Query vacío, el cual seleccionará todos los documentos en la colección. Tal como hacer un `SELECT * from Tabla`\n",
    "\n",
    "Utilizando la base de datos *CRM* y la colección *cliente* obtenemos los datos"
   ]
  },
  {
   "cell_type": "code",
   "execution_count": 4,
   "metadata": {
    "scrolled": true
   },
   "outputs": [
    {
     "name": "stdout",
     "output_type": "stream",
     "text": [
      "{'_id': 1, 'name': 'John', 'address': 'Highway 37'}\n",
      "{'_id': 2, 'name': 'Peter', 'address': 'Lowstreet 27'}\n",
      "{'_id': 3, 'name': 'Amy', 'address': 'Apple st 652'}\n",
      "{'_id': 4, 'name': 'Hannah', 'address': 'Mountain 21'}\n",
      "{'_id': 5, 'name': 'Michael', 'address': 'Valley 345'}\n",
      "{'_id': 6, 'name': 'Sandy', 'address': 'Ocean blvd 2'}\n",
      "{'_id': 7, 'name': 'Betty', 'address': 'Green Grass 1'}\n",
      "{'_id': 8, 'name': 'Richard', 'address': 'Sky st 331'}\n",
      "{'_id': 9, 'name': 'Susan', 'address': 'One way 98'}\n",
      "{'_id': 10, 'name': 'Vicky', 'address': 'Yellow Garden 2'}\n",
      "{'_id': 11, 'name': 'Ben', 'address': 'Park Lane 38'}\n",
      "{'_id': 12, 'name': 'William', 'address': 'Central st 954'}\n",
      "{'_id': 13, 'name': 'Chuck', 'address': 'Main Road 989'}\n",
      "{'_id': 14, 'name': 'Viola', 'address': 'Sideway 1633'}\n"
     ]
    }
   ],
   "source": [
    "import pymongo\n",
    "\n",
    "micliente = pymongo.MongoClient(\"mongodb://localhost:27017/\")\n",
    "mydb = micliente[\"CRM\"]\n",
    "mycol = mydb[\"cliente\"]\n",
    "\n",
    "for x in mycol.find():\n",
    "    print(x)"
   ]
  },
  {
   "cell_type": "markdown",
   "metadata": {},
   "source": [
    "### Contar registros\n",
    "\n",
    "Podemos contar cuantos documentos tiene una colección con el método `count_documents({})` \n"
   ]
  },
  {
   "cell_type": "code",
   "execution_count": 22,
   "metadata": {},
   "outputs": [
    {
     "name": "stdout",
     "output_type": "stream",
     "text": [
      "14\n"
     ]
    }
   ],
   "source": [
    "print(mycol.count_documents({}))"
   ]
  },
  {
   "cell_type": "markdown",
   "metadata": {},
   "source": [
    "#### Regresar solo algunos campos\n",
    "\n",
    "El segundo parámetro de `find()` es un objeto describiendo qué campos incluir en el resultado.\n",
    "Este parámetro es opcional y si se omite, todos los campos se incluirán en el resultado.\n",
    "\n",
    "Ejemplo. Regresar todos los campos, excepto los `_id`"
   ]
  },
  {
   "cell_type": "code",
   "execution_count": 14,
   "metadata": {},
   "outputs": [
    {
     "name": "stdout",
     "output_type": "stream",
     "text": [
      "{'name': 'John', 'address': 'Highway 37'}\n",
      "{'name': 'Peter', 'address': 'Lowstreet 27'}\n",
      "{'name': 'Amy', 'address': 'Apple st 652'}\n",
      "{'name': 'Hannah', 'address': 'Mountain 21'}\n",
      "{'name': 'Michael', 'address': 'Valley 345'}\n",
      "{'name': 'Sandy', 'address': 'Ocean blvd 2'}\n",
      "{'name': 'Betty', 'address': 'Green Grass 1'}\n",
      "{'name': 'Richard', 'address': 'Sky st 331'}\n",
      "{'name': 'Susan', 'address': 'One way 98'}\n",
      "{'name': 'Vicky', 'address': 'Yellow Garden 2'}\n",
      "{'name': 'Ben', 'address': 'Park Lane 38'}\n",
      "{'name': 'William', 'address': 'Central st 954'}\n",
      "{'name': 'Chuck', 'address': 'Main Road 989'}\n",
      "{'name': 'Viola', 'address': 'Sideway 1633'}\n"
     ]
    }
   ],
   "source": [
    "import pymongo\n",
    "\n",
    "micliente = pymongo.MongoClient(\"mongodb://localhost:27017/\")\n",
    "\n",
    "mycol=micliente[\"CRM\"][\"cliente\"]\n",
    "\n",
    "for x in mycol.find({},{\"_id\":0,\"name\":1 ,\"address\":1}):\n",
    "    print(x)"
   ]
  },
  {
   "cell_type": "markdown",
   "metadata": {},
   "source": [
    "### Query\n",
    "\n",
    "Cuando se buscan documentos en una colección, se pueden filtrar los resultados utilizando un objeto Query. El primer argumento del método `find()` es un objeto *Query* y es utilizado para limitar la búsqueda.\n",
    "\n",
    "~~~py\n",
    "myquery = { \"address\": \"Park Lane 38\" }\n",
    "\n",
    "mydoc = mycol.find(myquery)\n",
    "\n",
    "for x in mydoc:\n",
    "  print(x)\n",
    "~~~\n",
    "```\n",
    "{'_id': 11, 'name': 'Ben', 'address': 'Park Lane 38'}\n",
    "```\n",
    "\n",
    "### Selectores de Query\n",
    "\n",
    "Como en SQL, Mono también utiliza operadores para filtrar información.\n",
    "\n",
    "| Nombre   | Descripción | Ejemplo   |\n",
    "| -------  | :---------: | --------- |\n",
    "|   eq o =   |    Coincide valores con un valor específico |     {name: {eq : John}}    |\n",
    "|   gt o >   |  Coincide los valores que son mayores a un valor específico   | {_id : { gt: 5}} |\n",
    "|   gte o >= |  Coincide los valores que son mayores o iguales a un valor específico   | {_id : { gte: 5}} |\n",
    "| in         | Coincide con los valores que se encuentran en un arreglo específico |  {name: {in : [ John , Amy, Michael ] }}|\n",
    "| lt o <   | Coincide los valores que son menores a un valor en específico | { cantidad : { lt : 20} }  |\n",
    "| lte o <=   | Coincide los valores que son menores o iguales a un valor en específico | { cantidad : { lte : 50} }  |\n",
    "| ne != o <>  | Coincide los valores que no son iguales a un valor en específico | { cantidad : { ne : 20} }  |\n",
    "| nin o not in   | Descarta los valores que estan dentro de un arreglo  | {name: {nin : [ John , Amy, Michael ] } } |\n",
    "\n",
    "- **Lógicos**\n",
    "\n",
    "| Nombre   | Descripción | Ejemplo   |\n",
    "| -------  | :---------: | --------- |\n",
    "|   and   |    Une consultas con un AND y devuelve los documentos que cumplan las condiciones  |     {and: [ {edad : {gte: 18}},{edad : {lte:35} } ] }   |\n",
    "| not  |  Ejecuta un NOT en la expresión e incluye documentos que no contienen el campo | { precio : { not: { gt : 20} } } |\n",
    "|   NOR | Ejecuta un NOR lógico y selecciona los documentos que no cumplen las condiciones   | { nor: [ { precio: 1.99 }, { sale: true } ]  } |\n",
    "| OR         | Une consultas con un OR y devuelve los documentos que cumplan las condiciones | {or: [ {edad : {gte: 18}},{edad : {lte:35} } ] } |\n",
    "| exists         | Coincide los documentos que contiene cierto campo aunque esté vacío. | db.inventory.find( { qty: { $exists: true, $nin: [ 5, 15 ] } } ) |\n",
    "\n",
    "#### Query Avanzado\n",
    "Para crear Querys avanzados podemos utilizar modificadores como valores en el objeto del Query.\n",
    "\n",
    "\n",
    "Para encontrar los documentos donde la dirección empiece con la letra \"S\" o mayor (alfabeticamente) utilizar el modificador \"greater than\": `{\"$gt\": \"S\"} :` \n",
    "\n",
    "- Filtro con Expresiones Regulares \n",
    "\n",
    "Para encontrar los documentos solo donde la \"dirección\" comience con la letra \"S\" usamos la expresión regular `{\"$regex\": \"^S\"}:`\n",
    "\n",
    "\n"
   ]
  },
  {
   "cell_type": "code",
   "execution_count": 18,
   "metadata": {},
   "outputs": [
    {
     "name": "stdout",
     "output_type": "stream",
     "text": [
      "{'_id': 8, 'name': 'Richard', 'address': 'Sky st 331'}\n",
      "{'_id': 14, 'name': 'Viola', 'address': 'Sideway 1633'}\n"
     ]
    }
   ],
   "source": [
    "# Direcciones que comiencen con S\n",
    "myquery = { \"address\": { \"$regex\": \"^S\" } }\n",
    "\n",
    "mydoc = mycol.find(myquery)\n",
    "\n",
    "for x in mydoc:\n",
    "  print(x)"
   ]
  },
  {
   "cell_type": "code",
   "execution_count": 19,
   "metadata": {
    "scrolled": true
   },
   "outputs": [
    {
     "name": "stdout",
     "output_type": "stream",
     "text": [
      "{'_id': 5, 'address': 'Valley 345'}\n",
      "{'_id': 8, 'address': 'Sky st 331'}\n",
      "{'_id': 10, 'address': 'Yellow Garden 2'}\n",
      "{'_id': 14, 'address': 'Sideway 1633'}\n"
     ]
    }
   ],
   "source": [
    "#Direcciones que comiencen con S o mayor.\n",
    "myquery = { \"address\": { \"$gt\": \"S\" } }\n",
    "\n",
    "mydoc = mycol.find(myquery,{\"name\":0})\n",
    "\n",
    "for x in mydoc:\n",
    "  print(x)"
   ]
  },
  {
   "cell_type": "markdown",
   "metadata": {},
   "source": [
    "### Ordenamiento\n",
    "\n",
    "Utilizar el método `sort()` para ordenar el resultado en orden ascendente o descendente. El método toma un parámetro por campo y un parámetro para la dirección (ascendente es la dirección por default)\n",
    "\n",
    "\n",
    "`mydoc = mycol.find().sort(\"name\")`\n",
    "\n",
    "\n",
    "Utilizar -1 como segundo parámetro para ordenar de forma descendente.\n",
    "\n",
    "~~~\n",
    "sort(\"name\", 1) #ascending\n",
    "sort(\"name\", -1) #descending\n",
    "~~~"
   ]
  },
  {
   "cell_type": "code",
   "execution_count": 20,
   "metadata": {
    "scrolled": false
   },
   "outputs": [
    {
     "name": "stdout",
     "output_type": "stream",
     "text": [
      "{'_id': 12, 'name': 'William', 'address': 'Central st 954'}\n",
      "{'_id': 14, 'name': 'Viola', 'address': 'Sideway 1633'}\n",
      "{'_id': 10, 'name': 'Vicky', 'address': 'Yellow Garden 2'}\n",
      "{'_id': 9, 'name': 'Susan', 'address': 'One way 98'}\n",
      "{'_id': 6, 'name': 'Sandy', 'address': 'Ocean blvd 2'}\n",
      "{'_id': 8, 'name': 'Richard', 'address': 'Sky st 331'}\n",
      "{'_id': 2, 'name': 'Peter', 'address': 'Lowstreet 27'}\n",
      "{'_id': 5, 'name': 'Michael', 'address': 'Valley 345'}\n",
      "{'_id': 1, 'name': 'John', 'address': 'Highway 37'}\n",
      "{'_id': 4, 'name': 'Hannah', 'address': 'Mountain 21'}\n",
      "{'_id': 13, 'name': 'Chuck', 'address': 'Main Road 989'}\n",
      "{'_id': 7, 'name': 'Betty', 'address': 'Green Grass 1'}\n",
      "{'_id': 11, 'name': 'Ben', 'address': 'Park Lane 38'}\n",
      "{'_id': 3, 'name': 'Amy', 'address': 'Apple st 652'}\n"
     ]
    }
   ],
   "source": [
    "mydoc = mycol.find().sort(\"name\", -1)\n",
    "\n",
    "for x in mydoc:\n",
    "  print(x)"
   ]
  },
  {
   "cell_type": "markdown",
   "metadata": {},
   "source": [
    "### Delete\n",
    "\n",
    "Para borrar un documento podemos utilizar dos métodos `delete_one()` o `delete_many()` el parámetro que le debemos pasar es un Query object definiendo qué documento borrar.\n",
    "\n",
    "Para `delete_one()` borrará la primera coincidencia que encuentre.\n",
    "\n",
    "Para eliminar varios documentos (registros) usamos `delete_many()` \n",
    "\n",
    "~~~py\n",
    "\n",
    "myquery = { 'address': {\"$regex\": '^S'} }\n",
    "\n",
    "x = mycol.delete_many(myquery)\n",
    "~~~\n",
    "\n",
    "\n",
    "Para eliminar todos los documentos de una colección utilizamos `delete_many({})` \n",
    "\n",
    "~~~py\n",
    "\n",
    "import pymongo\n",
    "\n",
    "myclient = pymongo.MongoClient(\"mongodb://localhost:27017/\")\n",
    "mydb = myclient[\"mydatabase\"]\n",
    "mycol = mydb[\"customers\"]\n",
    "\n",
    "x = mycol.delete_many({})\n",
    "\n",
    "print(x.deleted_count, \" documents deleted.\")\n",
    "~~~\n"
   ]
  },
  {
   "cell_type": "markdown",
   "metadata": {},
   "source": [
    "### Drop Collection\n",
    "\n",
    "Para eliminar una colección utilizamos el método `drop()`\n",
    "\n",
    "~~~py\n",
    "import pymongo\n",
    "\n",
    "myclient = pymongo.MongoClient(\"mongodb://localhost:27017/\")\n",
    "mydb = myclient[\"mydatabase\"]\n",
    "mycol = mydb[\"customers\"]\n",
    "\n",
    "mycol.drop()\n",
    "~~~\n",
    "\n",
    "EL método devolverá un `True` si l colección fue borrada y `False` si la colección no existe. "
   ]
  },
  {
   "cell_type": "markdown",
   "metadata": {},
   "source": [
    "### Update \n",
    "\n",
    "Se pueden actualizar los registros utilizando `update_one()` o `update_many()`.\n",
    "\n",
    "El primer parámetro es un Query object definiendo qué documento se actualizará.\n",
    "\n",
    "El segundo parámetro es un objeto definiendo los nuevos valores del documento.\n",
    "\n",
    "#### Update_one\n",
    "\n",
    "~~~py\n",
    "mycol = mydb[\"cliente\"]\n",
    "\n",
    "myquery = { \"address\": \"Valley 345\" }\n",
    "newvalues = { \"$set\": { \"address\": \"Canyon 123\" } }\n",
    "\n",
    "mycol.update_one(myquery, newvalues)\n",
    "~~~\n",
    "\n",
    "\n",
    "#### Update_many\n",
    "\n",
    "Actualiza todos los documentos que coincidan con el criterio del Query.\n",
    "\n",
    "Ejemplo: Actualiza todos los documentos en donde la dirección comience con \"S\" : \n",
    "\n",
    "~~~py\n",
    "import pymongo\n",
    "\n",
    "myclient = pymongo.MongoClient(\"mongodb://localhost:27017/\")\n",
    "mydb = myclient[\"CRM\"]\n",
    "mycol = mydb[\"cliente\"]\n",
    "\n",
    "myquery = { \"address\": { \"$regex\": \"^S\" } }\n",
    "newvalues = { \"$set\": { \"name\": \"Minnie\" } }\n",
    "\n",
    "x = mycol.update_many(myquery, newvalues)\n",
    "\n",
    "print(x.modified_count, \"documents updated.\")\n",
    "\n",
    "~~~"
   ]
  },
  {
   "cell_type": "markdown",
   "metadata": {},
   "source": [
    "### Limit\n",
    "\n",
    "Para limitar el resultado de una consulta en Mongo, utilizamos el método `limit()`. Este método toma un parámetro, un número definiendo cuántos documentos regresará.\n",
    "\n",
    "Limitaremos el resultado a 5 "
   ]
  },
  {
   "cell_type": "code",
   "execution_count": 21,
   "metadata": {
    "scrolled": true
   },
   "outputs": [
    {
     "name": "stdout",
     "output_type": "stream",
     "text": [
      "{'_id': 1, 'name': 'John', 'address': 'Highway 37'}\n",
      "{'_id': 2, 'name': 'Peter', 'address': 'Lowstreet 27'}\n",
      "{'_id': 3, 'name': 'Amy', 'address': 'Apple st 652'}\n",
      "{'_id': 4, 'name': 'Hannah', 'address': 'Mountain 21'}\n",
      "{'_id': 5, 'name': 'Michael', 'address': 'Valley 345'}\n"
     ]
    }
   ],
   "source": [
    "myresult = mycol.find().limit(5)\n",
    "\n",
    "#print the result:\n",
    "for x in myresult:\n",
    "  print(x)"
   ]
  },
  {
   "cell_type": "markdown",
   "metadata": {},
   "source": [
    "### Listar los nombres de los campos en una colección\n",
    "\n",
    "Podemos utilizar llamar un documento con `find_one()` y almacenaro en una variable, esta tendrá la estructura de un Diccionario de  Python, así con el método `keys()` podremos saber los campos de esa colección.\n",
    "\n",
    "Ejemplo:"
   ]
  },
  {
   "cell_type": "code",
   "execution_count": 28,
   "metadata": {
    "scrolled": true
   },
   "outputs": [
    {
     "name": "stdout",
     "output_type": "stream",
     "text": [
      "dict_keys(['_id', 'name', 'address'])\n"
     ]
    }
   ],
   "source": [
    "x = mydb.cliente.find_one()\n",
    "print(x.keys())"
   ]
  },
  {
   "cell_type": "markdown",
   "metadata": {},
   "source": [
    "### DISTINCT\n",
    "\n",
    "Uusando este método podemos reunir un grupo de valores asignados a un campo en específico en todos los documentos"
   ]
  },
  {
   "cell_type": "code",
   "execution_count": 8,
   "metadata": {
    "scrolled": false
   },
   "outputs": [
    {
     "data": {
      "text/plain": [
       "['MDW',\n",
       " 'MSP',\n",
       " 'BWI',\n",
       " 'PDX',\n",
       " 'IAD',\n",
       " 'SAN',\n",
       " 'CLT',\n",
       " 'LGA',\n",
       " 'TPA',\n",
       " 'FLL',\n",
       " 'BOS',\n",
       " 'LAS',\n",
       " 'SEA',\n",
       " 'JFK',\n",
       " 'EWR',\n",
       " 'SLC',\n",
       " 'DEN',\n",
       " 'DTW',\n",
       " 'DCA',\n",
       " 'ORD',\n",
       " 'MIA',\n",
       " 'IAH',\n",
       " 'SFO',\n",
       " 'DFW',\n",
       " 'LAX',\n",
       " 'PHL',\n",
       " 'ATL',\n",
       " 'PHX',\n",
       " 'MCO']"
      ]
     },
     "execution_count": 8,
     "metadata": {},
     "output_type": "execute_result"
    }
   ],
   "source": [
    "#print(micliente.list_database_names())\n",
    "\n",
    "import pymongo\n",
    "\n",
    "micliente = pymongo.MongoClient(\"mongodb://localhost:27017/\")\n",
    "data=micliente[\"aeropuertos\"][\"data\"]\n",
    "\n",
    "\n",
    "data.distinct(\"_id.aeropuerto\")\n"
   ]
  },
  {
   "cell_type": "markdown",
   "metadata": {},
   "source": [
    "Si quisieramos saber qué aerolíneas están en cierto aeropuerto  que no se encentran en otro, lo podemos realizar con un distinct. "
   ]
  },
  {
   "cell_type": "code",
   "execution_count": 11,
   "metadata": {},
   "outputs": [
    {
     "data": {
      "text/plain": [
       "{'Atlantic Coast Airlines',\n",
       " 'Endeavor Air Inc.',\n",
       " 'Hawaiian Airlines Inc.',\n",
       " 'Independence Air',\n",
       " 'JetBlue Airways',\n",
       " 'Virgin America'}"
      ]
     },
     "execution_count": 11,
     "metadata": {},
     "output_type": "execute_result"
    }
   ],
   "source": [
    "set(data.distinct(\"Carrier.name\",{\"_id.aeropuerto\":\"JFK\"})) - set(data.distinct(\"Carrier.name\",{\"_id.aeropuerto\":\"MIA\"}))"
   ]
  }
 ],
 "metadata": {
  "kernelspec": {
   "display_name": "Python 3",
   "language": "python",
   "name": "python3"
  },
  "language_info": {
   "codemirror_mode": {
    "name": "ipython",
    "version": 3
   },
   "file_extension": ".py",
   "mimetype": "text/x-python",
   "name": "python",
   "nbconvert_exporter": "python",
   "pygments_lexer": "ipython3",
   "version": "3.7.3"
  }
 },
 "nbformat": 4,
 "nbformat_minor": 2
}
