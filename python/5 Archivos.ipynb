{
 "cells": [
  {
   "cell_type": "markdown",
   "metadata": {},
   "source": [
    "# Archivos\n",
    "\n",
    "Existen dos formas de acceder a un archivo, una es utilizarlo como un archivo de texto, que procesaremos línea por línea; la otra es tratarlo como un archivo binario que se procesa byte por byte.\n",
    "\n",
    "### Open & Read\n",
    "\n",
    "En python, para abrir un archivo usaremos la función `open`, que recibe la ruta del archivo a abrir.\n",
    "\n",
    "~~~ py\n",
    "archivo = open(\"archivo.txt\")\n",
    "~~~\n",
    "\n",
    "Esta función intentará abrir el archivo con el nombre indicado. Si tiene éxito, devolverá una variable que nos permitirá manipular el alrchivo de diversas maneras.\n",
    "\n",
    "La operación más sencilla a realizar sobre el archivo es leer su contenido. Para procesarlos línea por línea, es posible hacerlo de la siguiente forma:\n",
    "\n",
    "~~~ py\n",
    "linea= archivo.readline()\n",
    "\n",
    "while linea !='':\n",
    "    # Procesar línea\n",
    "    linea=archivo.readline()\n",
    "\n",
    "~~~\n",
    "\n",
    "Esto funciona ya que cada archivo que se encuentre abierto tiene una posición asociada, que indica el último punto en el que fue leído. Cada vez que se lee una línea, avanza esa posición. Es por ello que `readline` devuelve cada vez una línea distinta y no siempre la misma.\n",
    "\n",
    "La siguiente estructura es una forma equivalente a la vista en el ejemplo anterior.\n",
    "\n",
    "~~~ py \n",
    "\n",
    " for linea in archivo:\n",
    "     #procesar linea\n",
    "~~~\n",
    "\n",
    "De esta manera, la variable linea irá almacenando distintas cadenas correspondientes a cada una de las lineas del archivo.\n",
    "\n",
    "Es posible, además, obtener todas las líneas del archivo utilizando una sola llamada a función:\n",
    "\n",
    "\n",
    "~~~ py\n",
    "lineas = readlines()\n",
    "\n",
    "~~~\n",
    "\n",
    "En este caso `lineas` tendrá una lista de cadenas con todas las líneas del archivo.\n",
    "\n",
    "### Cerrar\n",
    "\n",
    "Para terminar de trabajar con un archivo, es recomendable cerrarlo. En algunos sistemas, los archivos solo pueden ser abiertos de a un programa a la vez; en otros, o que se haya escrito no se guardará hasta no cerrar el archivo; o el límite de cantidad de archivo que puede manipular un proggrama puede ser bajo.\n",
    "\n",
    "Para cerrar un archivo, simplemente se debe llamar a:\n",
    "\n",
    "~~~py\n",
    "archivo.close()\n",
    "~~~"
   ]
  },
  {
   "cell_type": "code",
   "execution_count": 1,
   "metadata": {},
   "outputs": [
    {
     "name": "stdout",
     "output_type": "stream",
     "text": [
      "uno,dos,tres,cuatro,cinco\n",
      "\n"
     ]
    }
   ],
   "source": [
    "archivo = open(\"archivo.csv\")\n",
    "\n",
    "for linea in archivo:\n",
    "    print(linea)\n",
    "\n",
    "archivo.close()"
   ]
  },
  {
   "cell_type": "markdown",
   "metadata": {},
   "source": [
    "### Modo de apertura\n",
    "\n",
    "La función `open()` recibe un parámetro pocional para indicar el modo en que se abrirá el archivo.\n",
    "\n",
    "- **Modo de sólo lectura** ( r ). En este caso, no es posible realizar modificaciones sobre el archivo, solamente leer su contenido.\n",
    "\n",
    "- **Modo de sólo escritura** ( w ). En este caso el archivo es truncado (vaciado) si existe, y lo crea si no existe.\n",
    "\n",
    "- **Modo solo escritura posicionándose al final del archivo** ( a ). En este modo se crea el archivo, si no existe, pero en caso de que exista se posiciona al final, manteniendo el contenido original.\n",
    "\n",
    "\n",
    "En cualquiera de los modos se puede agregar un `+` para pasar a un modo de *lectura-escritura*. Por ejemplo `r+` nos daría un archivo completo y listo para escribir. \n",
    "\n",
    "## Escribir en un archivo\n",
    "\n",
    "Existen dos maneras de escribir en un archivo.  Mediante cadenas:\n",
    "\n",
    "~~~ py \n",
    "    archivo.write(cadena)\n",
    "~~~\n",
    "\n",
    "O mediante lista de cadenas:\n",
    "~~~ py \n",
    "    archivo.writelines(lista_de_cadenas)\n",
    "~~~\n",
    "\n",
    "Así como la función `read` devuelve las líneas con los caracteres de fin de línea `\\n`, será necesario agregar los caracteres de fin de línea a las cadenas que se vayan a escribir en el archivo."
   ]
  },
  {
   "cell_type": "code",
   "execution_count": 5,
   "metadata": {},
   "outputs": [
    {
     "name": "stdout",
     "output_type": "stream",
     "text": [
      "uno,dos,tres,cuatro,cinco\n",
      "\n",
      "2018-11-20 18:02:50.119894,2018-11-20 18:02:50.119894,2018-11-20 18:02:50.119894,2018-11-20 18:02:50.119894,2018-11-20 18:02:50.119894\\n2018-11-20 18:02:54.271188,2018-11-20 18:02:54.271188,2018-11-20 18:02:54.271188,2018-11-20 18:02:54.271188,2018-11-20 18:02:54.271188\\n\n"
     ]
    }
   ],
   "source": [
    "import datetime\n",
    "archivo = open(\"archivo.csv\",\"r+\")\n",
    "\n",
    "for linea in archivo:\n",
    "    print(linea)\n",
    "'''\n",
    "archivo.write(str(datetime.datetime.now())+\",\"+str(datetime.datetime.now())+\",\"+str(datetime.datetime.now())+\",\"+str(datetime.datetime.now())+\",\"+str(datetime.datetime.now())+\"\\\\n\" )\n",
    "'''\n",
    "archivo.close()\n",
    "\n"
   ]
  }
 ],
 "metadata": {
  "kernelspec": {
   "display_name": "Python 3",
   "language": "python",
   "name": "python3"
  },
  "language_info": {
   "codemirror_mode": {
    "name": "ipython",
    "version": 3
   },
   "file_extension": ".py",
   "mimetype": "text/x-python",
   "name": "python",
   "nbconvert_exporter": "python",
   "pygments_lexer": "ipython3",
   "version": "3.7.0"
  }
 },
 "nbformat": 4,
 "nbformat_minor": 2
}
